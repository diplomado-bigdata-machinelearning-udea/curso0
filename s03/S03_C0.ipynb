{
  "nbformat": 4,
  "nbformat_minor": 0,
  "metadata": {
    "colab": {
      "name": "S03_C0.ipynb",
      "provenance": [],
      "collapsed_sections": []
    },
    "kernelspec": {
      "name": "python3",
      "display_name": "Python 3"
    }
  },
  "cells": [
    {
      "cell_type": "markdown",
      "metadata": {
        "id": "vpyD39qpD_eh",
        "colab_type": "text"
      },
      "source": [
        "<p><img alt=\"Colaboratory logo\" height=\"140px\" src=\"https://upload.wikimedia.org/wikipedia/commons/archive/f/fb/20161010213812%21Escudo-UdeA.svg\" align=\"left\" hspace=\"10px\" vspace=\"0px\"></p>\n",
        "\n",
        "# **Curso de bases para AI - Universidad de Antioquia**\n",
        "\n",
        "\n",
        "El presente curso hace parte del centro de Big Data de la facultad de ciencias exactas y naturales (FCEN) de la Universidad de Antioquia.\n",
        "\n",
        "\\\n",
        "\n",
        "El curso será dictado en 16 sesiones o clases de 4 horas los días sábado en las instalaciones de la universidad. Para un total de dededicación temporal de 64 horas. El curso cuenta con los siguientes módulos:\n",
        "\n",
        "1. Bases matemáticas y de programación. (10H)\n",
        "2. Bases de Python. (19H)\n",
        "3. Bases de R. (13H)\n",
        "4. Procesamiento de datos. (22H)"
      ]
    },
    {
      "cell_type": "markdown",
      "metadata": {
        "id": "AJjdxGWeEIR_",
        "colab_type": "text"
      },
      "source": [
        "# Algoritmia\n",
        "Un algoritmo es un conjunto de instrucciones o reglas definidas y no-ambiguas, ordenadas y finitas que permite, típicamente, solucionar un problema, realizar un cómputo, procesar datos y llevar a cabo otras tareas o actividades.\n",
        "\n",
        "Un ejemplo clásico de esto es un manual de instrucciones para el uso ola instalación de un aparato. Inclusive (en algunas circunstancias) las intrucciones impartidas de un patrón a un trabajador\n",
        "\n",
        "En general, no existe ningún consenso definitivo en cuanto a la definición formal de algoritmo. Muchos autores los señalan como listas de instrucciones para resolver un cálculo o un problema abstracto, es decir, que un número finito de pasos convierten los datos de un problema (entrada) en una solución (salida). Sin embargo no es preciso una solución última en realidad, es posible pensar en un algoritmo que permita calcular los números primos, sin embargo al ser estos infinitos sería imposible llegarlos a calcular todos.\n",
        "\n",
        "En general, la parte común en todas las definiciones se puede resumir en las siguientes tres propiedades siempre y cuando no consideremos\n",
        "\n",
        "1. Tiempo secuencial. Un algoritmo funciona en tiempo discretizado –paso a paso–, definiendo así una secuencia de estados computacionales por cada entrada válida (la entrada son los datos que se le suministran al algoritmo antes de comenzar).\n",
        "\n",
        "2. Exploración acotada. La transición de un estado al siguiente queda completamente determinada por una descripción fija y finita; es decir, entre cada estado y el siguiente solamente se puede tomar en cuenta una cantidad fija y limitada de términos del estado actual.\n",
        "\n",
        "En resumen, un algoritmo es cualquier cosa que funcione paso a paso, donde cada paso se pueda describir sin ambigüedad y sin hacer referencia a una computadora en particular, y además tiene un límite fijo en cuanto a la cantidad de datos que se pueden leer/escribir en un solo paso.\n",
        "\n",
        "##Medios de Expresión de un Algoritmo\n",
        "Es fundamental entender los pasos para la descripción de un algoritmo. Estos están dados por:\n",
        "\n",
        "1. Descripción de alto nivel: Se establece el problema, se selecciona un modelo matemático y se explica el algoritmo de manera verbal, posiblemente con ilustraciones y omitiendo detalles.\n",
        "2. Descripción formal: Se usa pseudocódigo para describir la secuencia de pasos que encuentran la solución.\n",
        "3. Implementación: Se muestra el algoritmo expresado en un lenguaje de programación específico o algún objeto capaz de llevar a cabo instrucciones.\n",
        "\n",
        "Pensemos en primera instancia cuál sería el proceso para en el receso del diplomado (o en un rato libre cualquiera, por ejemplo en la institución educativa a la que asista) comprar un café.\n",
        "\n",
        "Para alguien con años de práctica comprando siempre el mismo café en el mismo lugar puede ser fácil expresar de forma clara y sin ambiguedades el algoritmo para hacerlo:\n",
        "\n",
        "\n"
      ]
    },
    {
      "cell_type": "markdown",
      "metadata": {
        "id": "Ly6fdW-gNbZ1",
        "colab_type": "text"
      },
      "source": [
        "###Ejemplo 1: Compra de Café\n",
        "\n",
        "1. Dirijirse al espacio donde suelo tomar café (bloque 9).\n",
        "2. Al llegar al lugar donde lo venden saludar.\n",
        "3. Preguntar si hay café irlandés.\n",
        "4. Si sí hay pedirlo, pagar por él, tomarlo y dar las gracias\n",
        "5. Si no hay preguntar cuál hay disponible\n",
        "6. Si no hay ningún café disponible buscar otro lugar donde vendan café y repetir el proceso desde 2\n",
        "\n",
        "Parece algo tribial pero si quisiera explicarle por ejemplo a alguien que no sepa qué es un café o la importancia de las convenciones sociales (un computador por ejemplo) hacer paso por paso el proceso es importante.\n",
        "\n",
        "Como ejercicio puede intentar hacer un algoritmo con un compañero en el cual enuncie el proceso de ir a cine y ver una película. Sea específico, imagine que le explica por ejemplo a una persona que viene de una tribu indígena que conoce el idioma, pero nunca ha ido a cine.\n",
        "\n",
        "\n",
        "##Diagrama de flujo\n",
        "En principio es una representación gráfica de un algoritmo o de el proceso a seguir en uno. Las reglas de estos diagramas son las siguientes.\n",
        "\n",
        "- Círculo: Inicio del Diagrama y Final del Diagrama.\n",
        "- Rectángulo: Proceso interno como operación aritmética.\n",
        "- Paralelogramo inclinado: Entrada de información\n",
        "- Rectángulo cortado en la parte inferior: Salida de información\n",
        "- Rombo : Decisión \n",
        "- Flechas: Dirección de flujo\n",
        "\n",
        "En general estos son los items más importantes y más recurrentes que existen para la construcción de un diagrama de flujo. En ciertas áreas del conocimiento como administración o economía puede simbolizar un  Valor o medio de pago, por ejemplo.\n",
        "\n",
        "Hagamos varios ejemplos. Primero intentemos uno con la compra del café.\n",
        "\n",
        "<center>\n",
        "\n",
        "![Imagen modificada de Drawio](https://raw.githubusercontent.com/diplomado-bigdata-machinelearning-udea/curso0/master/s03/img/ComprarCafé.png)\n",
        "</center>\n",
        "\n",
        "Hemos diagramado el ejemplo en el que se hacía la compra de un Café. En la dirección [Draw.io](https://www.draw.io) puede intentar desarrollar un diagrama de flujo para el ejercicio del cine."
      ]
    },
    {
      "cell_type": "markdown",
      "metadata": {
        "id": "qaA5yB5RH2Qt",
        "colab_type": "text"
      },
      "source": [
        "Ahora en cuanto a problemas fácilmente solubles para un computador podemos pensar en problemas simples como una operación algebráica como suma resta multiplicación o división entre dos números. \n",
        "\n",
        "En el pŕoximo ejemplo se muestra el diagrama de flujo para determinar si un número natural n es un número primo.\n",
        "\n",
        "\n",
        "###Ejemplo 2: Diagrama de Flujo número primo\n",
        "<center>\n",
        "\n",
        "![Imagen modificada de Drawio](https://raw.githubusercontent.com/diplomado-bigdata-machinelearning-udea/curso0/master/s03/img/Primo1.png)\n",
        "</center>\n",
        "\n",
        "\n",
        "\n"
      ]
    },
    {
      "cell_type": "markdown",
      "metadata": {
        "id": "Hu_6uWV9K_pW",
        "colab_type": "text"
      },
      "source": [
        "###Ejemplo 3. Promedio\n",
        "Intentemos un último ejemplo. En este caso el diagramade flujo correspondiente a el cálculo del promedio para una lista de números.\n",
        "\n",
        "<center>\n",
        "\n",
        "![Imagen modificada de Drawio](https://raw.githubusercontent.com/diplomado-bigdata-machinelearning-udea/curso0/master/s03/img/Promedio.png)\n",
        "</center>"
      ]
    },
    {
      "cell_type": "markdown",
      "metadata": {
        "id": "pQ34EyMrIERt",
        "colab_type": "text"
      },
      "source": [
        "#Pseudocódigo \n",
        "\n",
        "En programación es básicamente lo que se suele llamar un lenguaje de alto nivel, o en palabras más simples, que se caracteriza por expresar los algoritmos de una manera adecuada a la capacidad cognitiva humana. Utiliza las convenciones estructurales de un lenguaje de programación cualquiera pero está diseñado para la lectura humana. La importancia de este yace en que usualmente es más simple para el entendimiento humano que el código de lenguaje de programación usual.\n",
        "\n",
        "El principal objetivo del pseudocódigo es el de representar la solución a un algoritmo de la forma más detallada posible, y a su vez lo más parecida posible al lenguaje que posteriormente se utilizará para la codificación del mismo.\n",
        "\n",
        "Es importante mencionar que ***NO EXISTE UNA SINTAXIS ESTANDAR PARA PSEUDOCÓDIGO***. De hecho, en principio algunos autores consideran los diagramas de flujo un pseudocódigo.\n",
        "\n",
        "A continuación escribiremos un pseudo-código para encontrar si un número es primo y otro para hallar el primedio de una lista de números. Además de ello veremos la diferencia con un código de Python que permite calcularlos. \n",
        "\n"
      ]
    },
    {
      "cell_type": "markdown",
      "metadata": {
        "id": "eUF2B1032Luw",
        "colab_type": "text"
      },
      "source": [
        "\n",
        "\n",
        "```\n",
        "Inicio\n",
        "\n",
        "primo = 0\n",
        "Leer(n)\n",
        "Si n<2 :\n",
        "  Escriba(\"Número no válido\")\n",
        "\n",
        "Si n = 2:\n",
        "  Escriba \"n es primo\")\n",
        "\n",
        "Sino:\n",
        "  Para x entre (2,n/2):\n",
        "    prueba = n mod x\n",
        "    Si prueba = 0:\n",
        "      primo = primo +1\n",
        "Si primo == 0:\n",
        "  Escriba \"n es primo\"\n",
        "Sino :\n",
        "  Escriba \"n no es primo\"\n",
        "\n",
        "Fin\n",
        "```\n",
        "\n"
      ]
    },
    {
      "cell_type": "code",
      "metadata": {
        "id": "8Yrxfg-96PFG",
        "colab_type": "code",
        "outputId": "15497340-4c65-484e-d96a-a26e46c6ec66",
        "colab": {
          "base_uri": "https://localhost:8080/",
          "height": 34
        }
      },
      "source": [
        "x = 17\n",
        "primo= 0\n",
        "prueba = 0\n",
        "for i in range(2,x):\n",
        "  prueba = x % i\n",
        "  if prueba == 0:\n",
        "    primo = primo +1\n",
        "\n",
        "if primo == 0:\n",
        "  print(str(x)+ \" es primo\")\n",
        "else:\n",
        "  print(str(x)+\" no es primo\")\n"
      ],
      "execution_count": 0,
      "outputs": [
        {
          "output_type": "stream",
          "text": [
            "17 es primo\n"
          ],
          "name": "stdout"
        }
      ]
    },
    {
      "cell_type": "markdown",
      "metadata": {
        "id": "l5zJ9JfeCOfj",
        "colab_type": "text"
      },
      "source": [
        "Ahora escribamos uno que me calcule el promedio de una lista de números\n",
        "\n",
        "\n",
        "\n",
        "```\n",
        "Inicio\n",
        "Leer (lista = [x1,x2,...,xn])\n",
        "n = dimension(lista)\n",
        "suma = 0\n",
        "Para j entre (1,n):\n",
        "  suma = suma + lista[j]\n",
        "prom =suma/n\n",
        "Escriba prom\n",
        "Fin\n",
        "```\n",
        "\n"
      ]
    },
    {
      "cell_type": "code",
      "metadata": {
        "id": "NMfKutIu7SxX",
        "colab_type": "code",
        "outputId": "ab4e70af-2ad4-45f3-b9ae-9745296fe4b9",
        "colab": {
          "base_uri": "https://localhost:8080/"
        }
      },
      "source": [
        "import numpy as np\n",
        "import math as mt\n",
        "lista = [10,5,20,43,13,26]\n",
        "suma = 0\n",
        "n =len(lista)\n",
        "for i in range(n):\n",
        "  suma = suma +lista[i]\n",
        "prom = suma/n\n",
        "print(prom, np.mean(lista))"
      ],
      "execution_count": 0,
      "outputs": [
        {
          "output_type": "stream",
          "text": [
            "19.5 19.5\n"
          ],
          "name": "stdout"
        }
      ]
    },
    {
      "cell_type": "markdown",
      "metadata": {
        "id": "0CcpAxZ9O1e8",
        "colab_type": "text"
      },
      "source": [
        "##Ejercicios\n",
        "\n",
        "###Ejercicio 1.\n",
        "\n",
        "Realice la descripción verbal del algoritmo y el diagrama de flujo de el problema del cine con ayuda de otro de sus compañeros. Utilice la herramienta del *Draw.io* para diagramarlo e intente subir la imagen a su propio notebook.\n",
        "\n",
        "###Ejercicio 2. \n",
        "\n",
        "Desarrolle una prueba de escritorio para el Pseudo-código referente a un número primo\n",
        "\n",
        "###Ejercicio 3.\n",
        "Desarrolle una prueba de escritorio para el Pseudo-código de el promedio de una lista de números y compruebe el cálculo con la ayuda de el código de arriba. *Ayuda*:Haga su lista con no más de 4 números, la idea es comprobar el algoritmo.\n",
        "\n",
        "###Ejercicio 4. \n",
        "Se ha hecho el un código que calcula de la media ponderada de una lista de números, intente hacer un código en python que calcule la media ponderada de esa primera lista. *Ayuda*: Utilice el programa de la media aritmética y cree otra lista correspondiente a los pesos de cada uno de los números de la primera lista, y recuerde que la media ponderada se calcula de la forma\n",
        "\n",
        "\\begin{equation}\n",
        "\\bar{x} = \\frac{\\sum_i x_i w_i}{\\sum_i w_i}\n",
        "\\end{equation}\n",
        "\n"
      ]
    },
    {
      "cell_type": "code",
      "metadata": {
        "id": "-byyI08tO5hc",
        "colab_type": "code",
        "outputId": "2ee7f1f8-5d96-4d0a-a70a-3fdcb8c53e13",
        "colab": {
          "base_uri": "https://localhost:8080/"
        }
      },
      "source": [
        "import numpy as np\n",
        "import math as mt\n",
        "lista = [10,5,20,43,13,26]\n",
        "pesos = [10,10,15,10,20,15]\n",
        "suma1 = 0\n",
        "suma2 = 0\n",
        "n =len(lista)\n",
        "for i in range(n):\n",
        "  suma1 = suma1 +lista[i]*pesos[i]\n",
        "  suma2 = suma2 +pesos[i]\n",
        "prompond = suma1/suma2\n",
        "print(prompond)"
      ],
      "execution_count": 0,
      "outputs": [
        {
          "output_type": "stream",
          "text": [
            "19.125\n"
          ],
          "name": "stdout"
        }
      ]
    },
    {
      "cell_type": "markdown",
      "metadata": {
        "id": "NvZXllsDHg2G",
        "colab_type": "text"
      },
      "source": [
        "#Python: Variables y tipos\n",
        "\n",
        "Python es un lenguaje orientado a objetos, Los objetos son entidades que tienen un determinado \"estado\", \"comportamiento o (método)\" e \"identidad\". Los métodos (comportamiento) y atributos (estado) están estrechamente relacionados por la propiedad de conjunto. Esta propiedad destaca que una clase requiere de métodos para poder tratar los atributos con los que cuenta.\n",
        "\n",
        "Ahora hablemos de lo que son algunos objetos en python. Las variables.\n",
        "Los nombres de las variables en Python pueden contener caracteres alfanuméricos *a-z*, *A-Z*, *0-9* y algunos caracteres especiales como _. Los nombres de las variables deben comenzar con una letra. \n",
        "\n",
        "Por convención, los nombres de las variables comienzan con letras minúsculas, y los nombres de las Clases con letras mayúsculas.\n",
        "\n",
        "Adicionalmente, existe un número de palabras claves que no pueden ser usadas como nombres de variables. Estas palabras claves son:\n",
        "\n",
        "> `and, as, assert, break, class, continue, def, del, elif, else, except, exec, finally, for, from, global, if, import, in, is, lambda, not, or, pass, print, raise, return, try, while, with, yield`"
      ]
    },
    {
      "cell_type": "markdown",
      "metadata": {
        "id": "qjubmYQyUxeB",
        "colab_type": "text"
      },
      "source": [
        "##Asignación de una Variable\n",
        "\n",
        "Python es un lenguaje que no necesita estar especificando qué tipo de variable es una u otra, a esto suele llamarsele declarar la variable, por defecto él lo interpreta, a esto se le conoce como Lenguaje de tipado dinámico. Solemos asignar una variable con el operador `=`, que ***NO DEBE SER CONFUNDIDO CON*** `==`. El primero le asigna un valor a una variable y el otro se podría entender como comparación entre 2 variables y si cumplen la igualdad. Veamos la diferencia.\n"
      ]
    },
    {
      "cell_type": "code",
      "metadata": {
        "id": "wT5LxDvAVpXg",
        "colab_type": "code",
        "outputId": "7c1c2d16-8b53-4047-d9d7-57e6c47f711a",
        "colab": {
          "base_uri": "https://localhost:8080/",
          "height": 52
        }
      },
      "source": [
        "x= 2.2\n",
        "y = \"Buenos días planeta\"\n",
        "print(x)\n",
        "x == y"
      ],
      "execution_count": 0,
      "outputs": [
        {
          "output_type": "stream",
          "text": [
            "2.2\n"
          ],
          "name": "stdout"
        },
        {
          "output_type": "execute_result",
          "data": {
            "text/plain": [
              "False"
            ]
          },
          "metadata": {
            "tags": []
          },
          "execution_count": 4
        }
      ]
    },
    {
      "cell_type": "markdown",
      "metadata": {
        "id": "J0zNqbbvWCeo",
        "colab_type": "text"
      },
      "source": [
        "Es posible consultar el tipo de variable con el comando `type`"
      ]
    },
    {
      "cell_type": "code",
      "metadata": {
        "id": "ZC7VNHXAWazz",
        "colab_type": "code",
        "outputId": "040e2455-cbe5-4b12-a08c-8bbf2548c565",
        "colab": {
          "base_uri": "https://localhost:8080/",
          "height": 34
        }
      },
      "source": [
        "type(x)"
      ],
      "execution_count": 0,
      "outputs": [
        {
          "output_type": "execute_result",
          "data": {
            "text/plain": [
              "float"
            ]
          },
          "metadata": {
            "tags": []
          },
          "execution_count": 5
        }
      ]
    },
    {
      "cell_type": "markdown",
      "metadata": {
        "id": "FPKV1_l_Wz3E",
        "colab_type": "text"
      },
      "source": [
        ""
      ]
    },
    {
      "cell_type": "markdown",
      "metadata": {
        "id": "BsiM8sk-X3yX",
        "colab_type": "text"
      },
      "source": [
        "##Tipos \n",
        "Existen múltiples tipos de variables para python. Es muy probable que a medida se avance no solo en el curso sino también en el diplomado se encuentren otras. Las más importantes que podemos nombrar ahora son:\n",
        "\n",
        "- entero (int)\n",
        "- Punto flotante (float)\n",
        "- Cadena de caracteres o string (string)\n",
        "- Complejos (complex)\n",
        "- Listas (list)\n",
        "- Boleanos"
      ]
    },
    {
      "cell_type": "markdown",
      "metadata": {
        "id": "DDEFPwQXUq9Q",
        "colab_type": "text"
      },
      "source": [
        "###Enteros\n",
        "Cualquier número no complejo que no contenga un `.` decimal. A partir de Python3 acepta cualquier cantidad de díjitos (desde que los pueda guardar en memoria). Python los reconoce como `int`\n"
      ]
    },
    {
      "cell_type": "code",
      "metadata": {
        "id": "b1ja6wsIaPSH",
        "colab_type": "code",
        "outputId": "9dc00b95-b8f1-4540-ecd5-19a9c9709228",
        "colab": {
          "base_uri": "https://localhost:8080/",
          "height": 34
        }
      },
      "source": [
        "x = 2*10**50\n",
        "type(x)"
      ],
      "execution_count": 0,
      "outputs": [
        {
          "output_type": "execute_result",
          "data": {
            "text/plain": [
              "int"
            ]
          },
          "metadata": {
            "tags": []
          },
          "execution_count": 6
        }
      ]
    },
    {
      "cell_type": "markdown",
      "metadata": {
        "id": "l3ArRJ_7c_MW",
        "colab_type": "text"
      },
      "source": [
        "###Punto Flotante \n",
        "Son una forma de presentar números reales muy grandes o muy pequeños en notación científica. En otros lenguajes como C existen otros tipos de números además de los `float` como los `double`. La diferencia yacía en que un float era un número de 32 bits mientras que un double podía ocupar el doble de esta memoria. Python no posee esta restricción, mientras tenga memoria, él guardará el número y si es decimal o está expresado en notación científica el lo clasificará como un float.\n",
        "\n"
      ]
    },
    {
      "cell_type": "code",
      "metadata": {
        "id": "seYLcJihfPn1",
        "colab_type": "code",
        "outputId": "94145568-a248-4bb8-eb4d-423cbabd2b7a",
        "colab": {
          "base_uri": "https://localhost:8080/",
          "height": 34
        }
      },
      "source": [
        "ffloat =2.43\n",
        "sfloat = 2e50\n",
        "print(type(ffloat),type(sfloat))"
      ],
      "execution_count": 0,
      "outputs": [
        {
          "output_type": "stream",
          "text": [
            "<class 'float'> <class 'float'>\n"
          ],
          "name": "stdout"
        }
      ]
    },
    {
      "cell_type": "markdown",
      "metadata": {
        "id": "KZv0R81uoKfK",
        "colab_type": "text"
      },
      "source": [
        "### Complejo\n",
        "\n",
        "Los complejos en general son números de la forma $z=a+bi$. Pyhton interpreta el número complejo $i$ como el número `j`. Es importante hacer la anotación de que `j` puede ser a su vez el nombre de una variable.\n"
      ]
    },
    {
      "cell_type": "code",
      "metadata": {
        "id": "JzpQgn2l0K_w",
        "colab_type": "code",
        "outputId": "f23aec8c-283d-4c0c-ae2f-e827b872b16a",
        "colab": {
          "base_uri": "https://localhost:8080/",
          "height": 34
        }
      },
      "source": [
        "z = 3+4j\n",
        "\n",
        "j=4\n",
        "print(z,j,j*z,type(z))"
      ],
      "execution_count": 0,
      "outputs": [
        {
          "output_type": "stream",
          "text": [
            "(3+4j) 4 (12+16j) <class 'complex'>\n"
          ],
          "name": "stdout"
        }
      ]
    },
    {
      "cell_type": "markdown",
      "metadata": {
        "id": "e5n7VDdniOw2",
        "colab_type": "text"
      },
      "source": [
        "### Cadena\n",
        "\n",
        "Las Cadenas o Strings se les define con comillas `\" \"` o con entre apóstrofe `''` la diferencia yace en el hecho que si se utilizan las comillas es más fácil el uso de las apóstrofe.\n",
        "\n"
      ]
    },
    {
      "cell_type": "code",
      "metadata": {
        "id": "MiU64iSmjs2_",
        "colab_type": "code",
        "outputId": "774199c5-542d-497c-c793-4ff8e839b8d1",
        "colab": {
          "base_uri": "https://localhost:8080/",
          "height": 34
        }
      },
      "source": [
        "strg =  \" You should's care about apostrofes\"\n",
        "strg"
      ],
      "execution_count": 0,
      "outputs": [
        {
          "output_type": "execute_result",
          "data": {
            "text/plain": [
              "\" You should's care about apostrofes\""
            ]
          },
          "metadata": {
            "tags": []
          },
          "execution_count": 9
        }
      ]
    },
    {
      "cell_type": "markdown",
      "metadata": {
        "id": "def_lz-gKPiw",
        "colab_type": "text"
      },
      "source": [
        "###Lista\n",
        "Una lista podría ser entendida como una concatenación de objetos, bien puede ser una lista de enteros, o de floats, o de strings, etc. Python la reconoce como `list`"
      ]
    },
    {
      "cell_type": "code",
      "metadata": {
        "id": "4AS2s5vCKgl8",
        "colab_type": "code",
        "outputId": "9fa20495-740c-4639-c6f8-8fc9a700828c",
        "colab": {
          "base_uri": "https://localhost:8080/",
          "height": 34
        }
      },
      "source": [
        "l = [\"Esta\", \"es\",\"una\", \"lista\" , \"de\" , \"strings\"]\n",
        "spc= \" \"\n",
        "print(l[0]+spc+l[1]+spc+l[2]+spc+l[3]+spc+l[4]+spc+l[5])"
      ],
      "execution_count": 0,
      "outputs": [
        {
          "output_type": "stream",
          "text": [
            "Esta es una lista de strings\n"
          ],
          "name": "stdout"
        }
      ]
    },
    {
      "cell_type": "markdown",
      "metadata": {
        "id": "oCyjuo-HgE15",
        "colab_type": "text"
      },
      "source": [
        "No quiere decir que no existan otros tipos de variables y que estas no sean recurrentes, siempre al escribir un código es bueno, de no tener claro qué tipo de variable es una u otra dependiendo de las librerías usadas, ver qué es lo que se está llamando"
      ]
    },
    {
      "cell_type": "markdown",
      "metadata": {
        "id": "e63SXvZqRAmR",
        "colab_type": "text"
      },
      "source": [
        "###Boleanos\n",
        "\n",
        "Una variable de tipo Booleano puede ser bien o `True` ó `False`.\n",
        "El ágebra booleana basa en las operaciones `and` `or` y `not` aunque también existen operadores compartidos de el álgebra entre números como los enteros y floats tales como `==` identicamente igual  y `!=`diferente. Es mejor pensar en estas variables "
      ]
    },
    {
      "cell_type": "code",
      "metadata": {
        "id": "QrUe0vXYRmRw",
        "colab_type": "code",
        "outputId": "9104d069-46ce-40dc-dd8e-a8ff407e0a9a",
        "colab": {
          "base_uri": "https://localhost:8080/",
          "height": 34
        }
      },
      "source": [
        "t = True\n",
        "f = False\n",
        "nf = not f\n",
        "nt = not t\n",
        "t == nf\n",
        "t != f"
      ],
      "execution_count": 0,
      "outputs": [
        {
          "output_type": "execute_result",
          "data": {
            "text/plain": [
              "True"
            ]
          },
          "metadata": {
            "tags": []
          },
          "execution_count": 11
        }
      ]
    },
    {
      "cell_type": "markdown",
      "metadata": {
        "id": "boGDTSYXE6Vq",
        "colab_type": "text"
      },
      "source": [
        "###Ejercicios de Variables y tipos\n",
        "1. Como es común en programación no se puede empezar a aprender un lenguaje sin escribir el típico \"Hola Mundo\". Python es muy permisivo para este tipo de ejercicios. Intente al menos escibir de 2 formas distintas un \"Hola Mundo\" en pantalla."
      ]
    },
    {
      "cell_type": "code",
      "metadata": {
        "id": "E2oyzptlHLTa",
        "colab_type": "code",
        "colab": {}
      },
      "source": [
        ""
      ],
      "execution_count": 0,
      "outputs": []
    },
    {
      "cell_type": "markdown",
      "metadata": {
        "id": "UWqRF8SkHLml",
        "colab_type": "text"
      },
      "source": [
        "2. En la ventana de código de abajo hallará un programa pequeño que permite saber si una variable es entero o no. Debajo de el comentario que dice \"Su código va acá abajo\" declare una variable llamada entero y verifique si es un `int` con ayuda del programa. Como reto intente copiar este programa en la entrada de abajo pero modifíquelo para que seaun `float`."
      ]
    },
    {
      "cell_type": "code",
      "metadata": {
        "id": "l30zNEG1Rs1j",
        "colab_type": "code",
        "outputId": "a158ab0d-65a1-4d0a-a96a-2d6816a54cf1",
        "colab": {
          "base_uri": "https://localhost:8080/",
          "height": 54
        }
      },
      "source": [
        "#Su código va acá abajo\n",
        "\n",
        "\n",
        "#La parte de abajo (quite las comillas)\n",
        "\"\"\"\n",
        "if type(entero) == int:\n",
        "  print(\"el valor de el entero es \"+ str(entero))\n",
        "else :\n",
        "  print(\"su entero no es un entero\")\n",
        "\"\"\""
      ],
      "execution_count": 0,
      "outputs": [
        {
          "output_type": "execute_result",
          "data": {
            "text/plain": [
              "'\\nif type(entero) == int:\\n  print(\"el valor de el entero es \"+ str(entero))\\nelse :\\n  print(\"su entero no es un entero\")\\n'"
            ]
          },
          "metadata": {
            "tags": []
          },
          "execution_count": 13
        }
      ]
    },
    {
      "cell_type": "code",
      "metadata": {
        "id": "6LyTgcTrIEVJ",
        "colab_type": "code",
        "colab": {}
      },
      "source": [
        ""
      ],
      "execution_count": 0,
      "outputs": []
    },
    {
      "cell_type": "markdown",
      "metadata": {
        "id": "4J77fb_bnrst",
        "colab_type": "text"
      },
      "source": [
        "\n",
        "# Python: Operadores\n",
        "\n",
        "Los operadores hacen referencia a las expresiones que pueden manipular el valor de datos o indicar como se deben manipular a los que se conocen como operandos. En el lenguaje Python podemos encontrar siguientes tipos de operadores:\n",
        "\n",
        "* Operadores aritméticos\n",
        "* Operadores de asignación\n",
        "* Operadores de comparación (relacionales)\n",
        "* Operadores lógicos\n",
        "* Operadores de identidad y pertenencia\n",
        "* Operadores de Bitwise\n"
      ]
    },
    {
      "cell_type": "markdown",
      "metadata": {
        "id": "TER9-3dAvXyx",
        "colab_type": "text"
      },
      "source": [
        "## Operadores aritméticos\n",
        "\n",
        "Este tipo de operadores permite ejecutar operaciones aritméticas entre operandos.\n",
        "\n",
        "<font face=\"Verdana\">\n",
        "\n",
        "|Operador|Descripción|Ejemplo|\n",
        "|-|-|-|\n",
        "|+|Suma los operandos| var1 + var2|\n",
        "|-|Resta los operandos| var1 - var2|\n",
        "|*|Multiplica los operandos| var1*var2|\n",
        "|/|Divide los operandos| var1/var2|\n",
        "|%|Halla el módulo entre los operandos| var1%var2|\n",
        "|**|Realiza cálculos de potencia entre los operandosrecho| var1**var2|\n",
        "|//|Divide de forma entera  los operandos| var1//var2|\n"
      ]
    },
    {
      "cell_type": "code",
      "metadata": {
        "id": "WJTfxkSvwk9R",
        "colab_type": "code",
        "outputId": "59676e8c-aa1f-4712-91fe-2f8c84e640a5",
        "colab": {
          "base_uri": "https://localhost:8080/",
          "height": 175
        }
      },
      "source": [
        "var1 = 5\n",
        "var2 = 2\n",
        "print(\"El valor de var1 es \",var1)\n",
        "print(\"El valor de var2 es \",var2)\n",
        "print(\"var1 + var2 = \",var1 + var2)\n",
        "print(\"var1 - var2 =\",var1 - var2)\n",
        "print(\"var1 * var2 =\",var1 * var2)\n",
        "print(\"var1 / var2 =\",var1 / var2)\n",
        "print(\"var1 % var2 =\",var1 % var2)\n",
        "print(\"var1 ** var2 =\",var1 ** var2)\n",
        "print(\"var1 // var2 =\",var1 // var2)"
      ],
      "execution_count": 0,
      "outputs": [
        {
          "output_type": "stream",
          "text": [
            "El valor de var1 es  5\n",
            "El valor de var2 es  2\n",
            "var1 + var2 =  7\n",
            "var1 - var2 = 3\n",
            "var1 * var2 = 10\n",
            "var1 / var2 = 2.5\n",
            "var1 % var2 = 1\n",
            "var1 ** var2 = 25\n",
            "var1 // var2 = 2\n"
          ],
          "name": "stdout"
        }
      ]
    },
    {
      "cell_type": "markdown",
      "metadata": {
        "id": "0gCj_1bdx74A",
        "colab_type": "text"
      },
      "source": [
        "El orden normal de operaciones es el mismo usado en matemáticas:\n",
        "\n",
        "1. Paréntesis\n",
        "2. Exponente\n",
        "3. Multiplicación, División\n",
        "4. Suma, Resta"
      ]
    },
    {
      "cell_type": "code",
      "metadata": {
        "id": "6NKDMM6BySyd",
        "colab_type": "code",
        "outputId": "eb690cbe-aea3-4458-a7c5-d6248b68baf9",
        "colab": {
          "base_uri": "https://localhost:8080/",
          "height": 52
        }
      },
      "source": [
        "print(12**1/12)\n",
        "print(12**(1/12))"
      ],
      "execution_count": 0,
      "outputs": [
        {
          "output_type": "stream",
          "text": [
            "1.0\n",
            "1.2300755055779713\n"
          ],
          "name": "stdout"
        }
      ]
    },
    {
      "cell_type": "markdown",
      "metadata": {
        "id": "NlWayVYpnyZy",
        "colab_type": "text"
      },
      "source": [
        "## Operadores de asignación \n",
        "\n",
        "Este tipo de operadores permite la asignación entre operandos y son básicamente variaciones del operador \"=\"\n",
        "\n",
        "<font face=\"Verdana\">\n",
        "\n",
        "|Operador|Descripción|Ejemplo|\n",
        "|-|-|-|\n",
        "|=|Asigna al operando izquierdo el valor del operando derecho| var = 5 + 4|\n",
        "|+=|Suma al operando izquierdo el valor del operando derecho| var += 5|\n",
        "|-=|Resta al operando izquierdo el valor del operando derecho| var -= 5|\n",
        "|*=|Multiplica el operando izquierdo con el valor del operando derecho| var *= 5|\n",
        "|/=|Divide el operando izquierdo con el valor del operando derecho| var /= 5|\n",
        "|**=|Eleva al operando izquierdo al valor del operando derecho| var **= 5|\n",
        "|//=|Divide en forma entera al operando izquierdo con el valor del operando derecho| c //= 5|\n",
        "|%=|Calcula el módulo entre el operando izquierdo y el derecho operando derecho| var %= 5|\n"
      ]
    },
    {
      "cell_type": "code",
      "metadata": {
        "id": "5ATKxrRGpu8D",
        "colab_type": "code",
        "outputId": "90ffe0c8-27b7-4a38-9b0d-18ae983a0376",
        "colab": {
          "base_uri": "https://localhost:8080/",
          "height": 158
        }
      },
      "source": [
        "var = 5 + 4\n",
        "print(\"El valor inicial de var es \",var)\n",
        "var +=5\n",
        "print(\"El valor aumentado de var es \",var)\n",
        "var -=5\n",
        "print(\"El valor aumentado de var es \",var)\n",
        "var *=5\n",
        "print(\"El valor aumentado de var es \",var)\n",
        "var /=5\n",
        "print(\"El valor aumentado de var es \",var)\n",
        "var **=5\n",
        "print(\"El valor aumentado de var es \",var)\n",
        "var //=5\n",
        "print(\"El valor aumentado de var es \",var)\n",
        "var %=5\n",
        "print(\"El valor aumentado de var es \",var)"
      ],
      "execution_count": 0,
      "outputs": [
        {
          "output_type": "stream",
          "text": [
            "El valor inicial de var es  9\n",
            "El valor aumentado de var es  14\n",
            "El valor aumentado de var es  9\n",
            "El valor aumentado de var es  45\n",
            "El valor aumentado de var es  9.0\n",
            "El valor aumentado de var es  59049.0\n",
            "El valor aumentado de var es  11809.0\n",
            "El valor aumentado de var es  4.0\n"
          ],
          "name": "stdout"
        }
      ]
    },
    {
      "cell_type": "markdown",
      "metadata": {
        "id": "p9NQxwcpywIS",
        "colab_type": "text"
      },
      "source": [
        "## Operadores relacionales \n",
        "\n",
        "Este tipo de operadores permite comparar entre operandos y su resultado siempre es una variable booleana. \n",
        "\n",
        "<font face=\"Verdana\">\n",
        "\n",
        "|Operador|Descripción|Ejemplo|\n",
        "|-|-|-|\n",
        "|==|Evalua si los valores de los operandos sean iguales| var1 == var2|\n",
        "|!=|Evalua si los valores de los operandos sean diferentes| var1 != var2|\n",
        "|>|Evalua si el valor de operando de la izquierda es mayor que el de la derecha| var1 > var2|\n",
        "|<|Evalua si el valor de operando de la izquierda es menor que el de la derecha| var1 > var2|\n",
        "|>=|Evalua si el valor de operando de la izquierda es mayor o igual que el de la derecha| var1 >= var2|\n",
        "|<=|Evalua si el valor de operando de la izquierda es menor o igual que el de la derecha| var1 <= var2|\n"
      ]
    },
    {
      "cell_type": "code",
      "metadata": {
        "id": "nEJ3n7QHz4WV",
        "colab_type": "code",
        "outputId": "14a87ed5-de53-4ef4-c6aa-7161680949cf",
        "colab": {
          "base_uri": "https://localhost:8080/",
          "height": 158
        }
      },
      "source": [
        "var1 = 6.7\n",
        "var2 = -2.6\n",
        "print(\"El valor de var1 es \",var1)\n",
        "print(\"El valor de var2 es \",var2)\n",
        "print(\"var1 == var2? \",var1 == var2)\n",
        "print(\"var1 != var2?\",var1 != var2)\n",
        "print(\"var1 > var2?\",var1 > var2)\n",
        "print(\"var1 < var2?\",var1 < var2)\n",
        "print(\"var1 >= var2?\",var1 >= var2)\n",
        "print(\"var1 <= var2?\",var1 <= var2)"
      ],
      "execution_count": 0,
      "outputs": [
        {
          "output_type": "stream",
          "text": [
            "El valor de var1 es  6.7\n",
            "El valor de var2 es  -2.6\n",
            "var1 == var2?  False\n",
            "var1 != var2? True\n",
            "var1 > var2? True\n",
            "var1 < var2? False\n",
            "var1 >= var2? True\n",
            "var1 <= var2? False\n"
          ],
          "name": "stdout"
        }
      ]
    },
    {
      "cell_type": "markdown",
      "metadata": {
        "id": "roB6AJgQGn5I",
        "colab_type": "text"
      },
      "source": [
        "## Operadores lógicos \n",
        "\n",
        "Este tipo de operadores permite comparar sentencias entre operandos y su resultado siempre es una variable booleana. \n",
        "\n",
        "<font face=\"Verdana\">\n",
        "\n",
        "|Operador|Descripción|Ejemplo|\n",
        "|-|-|-|\n",
        "|and|Evalua los operandos y sólo es verdadero cuando ambos son verdaderos| var1 and var2|\n",
        "|or|Evalua los operandos y sólo es falso cuando ambos son falsos| var1 or var2|\n",
        "|not|Negación del operando| not var1|\n"
      ]
    },
    {
      "cell_type": "code",
      "metadata": {
        "id": "xmovJnOvI4kW",
        "colab_type": "code",
        "outputId": "f38d32a7-6f7f-4519-909f-4389fcf0c1db",
        "colab": {
          "base_uri": "https://localhost:8080/",
          "height": 105
        }
      },
      "source": [
        "value = 5.0\n",
        "var1 = value%1 == 0\n",
        "var2 = 0 <= value < 10\n",
        "var3 = value%2 != 0\n",
        "print('¿Es un entero?', var1)\n",
        "print('¿Está entre [0,10)?',var2)\n",
        "print('¿No es divisible por 2?',var3)\n",
        "print('¿Es un digito?', var1 and var2)\n",
        "print('¿No es par?', not var1 or not var2)"
      ],
      "execution_count": 0,
      "outputs": [
        {
          "output_type": "stream",
          "text": [
            "¿Es un entero? True\n",
            "¿Está entre [0,10)? True\n",
            "¿No es divisible por 2? True\n",
            "¿Es un digito? True\n",
            "¿No es par? False\n"
          ],
          "name": "stdout"
        }
      ]
    },
    {
      "cell_type": "markdown",
      "metadata": {
        "id": "reLJGvlLz341",
        "colab_type": "text"
      },
      "source": [
        "## Operadores de identidad y pertenencia \n",
        "\n",
        "Este tipo de operadores permite comparar entre direcciones de operandos y su contenido, su resultado siempre es una variable booleana. \n",
        "\n",
        "<font face=\"Verdana\">\n",
        "\n",
        "|Operador|Descripción|Ejemplo|\n",
        "|-|-|-|\n",
        "|is|Evalua si las direcciones de los operandos son iguales| var1 is var2|\n",
        "|is not|Evalua si las direcciones de los operandos son iguales| var1 is not var2|\n",
        "|in|Evalua si un valor está contenido (o pertenece) en otro| var1 in var2|\n",
        "|not in|Evalua si un valor no está contenido (o pertenece) en otro| var1 not in var2|\n"
      ]
    },
    {
      "cell_type": "code",
      "metadata": {
        "id": "Eh9sUWiwFc9P",
        "colab_type": "code",
        "outputId": "d946a691-ff6c-4792-d835-ee7bf2f0e381",
        "colab": {
          "base_uri": "https://localhost:8080/",
          "height": 87
        }
      },
      "source": [
        "var1 = [1,2]\n",
        "var2 = [1,2]\n",
        "var3 = 1\n",
        "print('var1 is var2?',var1 is var2)\n",
        "print('var1 is not var2?',var1 is not var2)\n",
        "print('var3 in var2?',var3 in var2)\n",
        "print('var3 not in var1?',var3 not in var1)"
      ],
      "execution_count": 0,
      "outputs": [
        {
          "output_type": "stream",
          "text": [
            "var1 is var2? False\n",
            "var1 is not var2? True\n",
            "var3 in var2? True\n",
            "var3 not in var1? False\n"
          ],
          "name": "stdout"
        }
      ]
    },
    {
      "cell_type": "markdown",
      "metadata": {
        "id": "DRBN5sbDMaf_",
        "colab_type": "text"
      },
      "source": [
        "## Operadores bitáticos (bitwise)\n",
        "\n",
        "Los operadores realizan operaciones bit a bit. Los operandos se consideran como dígitos binarios sobre los que se realizan operaciones bit a bit.\n",
        "\n",
        "<font face=\"Verdana\">\n",
        "\n",
        "|Operador|Descripción|Ejemplo|\n",
        "|-|-|-|\n",
        "|&|Evalua bit a bit de los operandos y es 1 cuando ambos bits son 1| var1 & var2|\n",
        "| \\| |Evalua bit a bit de los operandos y es 0 cuando ambos bits son 0| var1 \\| var2|\n",
        "|^|Evalua bit a bit de los operandos y es 0 cuando ambos bits son 1 o  0| var1 ^ var2|\n",
        "|~|Regresa el complemento de a uno de un número. También funciona como una negación| ~var1|\n",
        "\n"
      ]
    },
    {
      "cell_type": "code",
      "metadata": {
        "id": "Z6mlZUT1HR2m",
        "colab_type": "code",
        "outputId": "5a171227-b71a-4307-810e-3056ec9b365e",
        "colab": {
          "base_uri": "https://localhost:8080/",
          "height": 492
        }
      },
      "source": [
        "def bin_fancy(val):\n",
        "  \n",
        "  bin_val = bin(val)[2:] if val>=0 else '-' + bin(val)[3:] \n",
        "  space = '  '\n",
        "  return space.join(bin_val)\n",
        "\n",
        "print('AND \\n')\n",
        "var1 = 8\n",
        "print(bin_fancy(var1))\n",
        "var2 = 13\n",
        "print(bin_fancy(var2))\n",
        "print('-'*len(bin_fancy(var2)))\n",
        "print(bin_fancy(var1 & var2))\n",
        "\n",
        "print('\\nOR \\n')\n",
        "\n",
        "print(bin_fancy(var1))\n",
        "print(bin_fancy(var2))\n",
        "print('-'*len(bin_fancy(var2)))\n",
        "print(bin_fancy(var1 | var2))\n",
        "\n",
        "print('\\nXOR \\n')\n",
        "\n",
        "print(bin_fancy(var1))\n",
        "print(bin_fancy(var2))\n",
        "print('-'*len(bin_fancy(var2)))\n",
        "print(bin_fancy(var1 ^ var2))\n",
        "\n",
        "print('\\nNOT \\n')\n",
        "\n",
        "print('~ ' + bin_fancy(var1))\n",
        "print(\"- (\" + bin_fancy(var1) + ') - (1) ')\n",
        "print('--'*len(bin_fancy(var2)))\n",
        "print(bin_fancy(~var1))\n"
      ],
      "execution_count": 0,
      "outputs": [
        {
          "output_type": "stream",
          "text": [
            "AND \n",
            "\n",
            "1  0  0  0\n",
            "1  1  0  1\n",
            "----------\n",
            "1  0  0  0\n",
            "\n",
            "OR \n",
            "\n",
            "1  0  0  0\n",
            "1  1  0  1\n",
            "----------\n",
            "1  1  0  1\n",
            "\n",
            "XOR \n",
            "\n",
            "1  0  0  0\n",
            "1  1  0  1\n",
            "----------\n",
            "1  0  1\n",
            "\n",
            "NOT \n",
            "\n",
            "~ 1  0  0  0\n",
            "- (1  0  0  0) - (1) \n",
            "--------------------\n",
            "-  1  0  0  1\n"
          ],
          "name": "stdout"
        }
      ]
    },
    {
      "cell_type": "code",
      "metadata": {
        "id": "eK7SOBgcM69V",
        "colab_type": "code",
        "outputId": "8fe0cb00-c698-4294-a2c9-9b4cda4552f2",
        "colab": {
          "base_uri": "https://localhost:8080/",
          "height": 87
        }
      },
      "source": [
        "import numpy as np\n",
        "\n",
        "lista = np.array([2,8,4,5,9,7,1,0,7,4,2,3])\n",
        "print(\"Lista completa: \",lista)\n",
        "print(\"Lista mayores de 3: \",lista[lista > 3])\n",
        "#Un error \n",
        "#print(lista[8 > lista > 3])\n",
        "#print(lista[ (8 > lista) and  (lista > 3)])\n",
        "print(\"Lista valores en (3,8): \",lista[ (8 > lista) & (lista > 3)])\n",
        "print(\"Lista menores o iguales de 3: \",lista[~(lista > 3)])"
      ],
      "execution_count": 0,
      "outputs": [
        {
          "output_type": "stream",
          "text": [
            "Lista completa:  [2 8 4 5 9 7 1 0 7 4 2 3]\n",
            "Lista mayores de 3:  [8 4 5 9 7 7 4]\n",
            "Lista valores en (3,8):  [4 5 7 7 4]\n",
            "Lista menores o iguales de 3:  [2 1 0 2 3]\n"
          ],
          "name": "stdout"
        }
      ]
    },
    {
      "cell_type": "markdown",
      "metadata": {
        "id": "KpL9PdlPXbAR",
        "colab_type": "text"
      },
      "source": [
        "## Ejercicios con operadores\n",
        "\n",
        "### Ejercicio 1\n",
        "\n",
        "¿Qué resultados se obtendrán al evaluar las siguientes expresiones Python?\n",
        "\n",
        "* $2 + 3 + 1 + 2$\n",
        "* $(2 + 3) * 1 + 2$\n",
        "* $2 + 3 * 1 + 2$\n",
        "* $(2 + 3) * (1 + 2)$\n",
        "* $2 + (3 * (6/2))$\n",
        "* $\\dfrac{4+6}{2+3}$\n",
        "* $(4/2)^5$\n",
        "* $(4/2)^{5+1}$\n",
        "* $(-3)^2$\n",
        "* $-(3)^2$\n",
        "* $1/2/4$\n",
        "* $4**.5$\n",
        "* $4.0 ** (1.0/2) + 1/2.0$\n",
        "* $3/2 + 1$\n",
        "\n",
        "### Ejercicio 2\n",
        "Utilizando operadores determinar si un número es par o impar. \n",
        "\n",
        "### Ejercicio 3\n",
        "\n",
        "Las raíces de un polinomio de grado 2, de la forma $ax^2+bx+c$, son 2 números\n",
        "que pueden ser reales o complejos. Utilizando operadores determine si las raíces son reales o complejas para distintos valores de a, b y c.\n",
        "\n",
        "### Ejercicio 4 \n",
        "\n",
        "Los articulos en español son `['el','un','los','unos','la','una','las','unas']`. En el siguiente texto elimine los artículos. \n"
      ]
    },
    {
      "cell_type": "code",
      "metadata": {
        "id": "xLAMExozefhq",
        "colab_type": "code",
        "outputId": "555f4706-5b4e-472e-9a02-e85aaffb38a3",
        "colab": {
          "base_uri": "https://localhost:8080/",
          "height": 118
        }
      },
      "source": [
        "import numpy as np\n",
        "texto = '''La Inteligencia artificial es el campo científico de la informática que se centra en la creación de programas y mecanismos \n",
        "que pueden mostrar comportamientos considerados inteligentes.\n",
        "En otras palabras, la IA es el concepto según el cual las máquinas piensan como seres humanos'''\n",
        "clean_texto = np.array([t.lower() for t in texto.replace('\\n',' ').split(' ')])\n",
        "#cond =\n",
        "#clean_texto[cond]"
      ],
      "execution_count": 0,
      "outputs": [
        {
          "output_type": "stream",
          "text": [
            "['la' 'inteligencia' 'artificial' 'es' 'el' 'campo' 'científico' 'de' 'la'\n",
            " 'informática' 'que' 'se' 'centra' 'en' 'la' 'creación' 'de' 'programas'\n",
            " 'y' 'mecanismos' '' 'que' 'pueden' 'mostrar' 'comportamientos'\n",
            " 'considerados' 'inteligentes.' 'en' 'otras' 'palabras,' 'la' 'ia' 'es'\n",
            " 'el' 'concepto' 'según' 'el' 'cual' 'las' 'máquinas' 'piensan' 'como'\n",
            " 'seres' 'humanos']\n"
          ],
          "name": "stdout"
        }
      ]
    },
    {
      "cell_type": "markdown",
      "metadata": {
        "id": "xttLzxPQW8wX",
        "colab_type": "text"
      },
      "source": [
        "# Python: Las cadenas de caracteres\n",
        "\n",
        "Las cadenas de caracteres son secuencia de caracteres encerrada en comillas\n",
        "dobles o simples. Pueden concatenarse con el operador suma (+).\n",
        "\n",
        "Escribe en la siguiente celda de código:\n",
        "```python\n",
        "cadena1 = \"Hola\"\n",
        "cadena2 = 'Mundo'\n",
        "espacio = ' '\n",
        "print(cadena1 + espacio + cadena2)\n",
        "```"
      ]
    },
    {
      "cell_type": "code",
      "metadata": {
        "id": "AghcqfKhVdT2",
        "colab_type": "code",
        "colab": {}
      },
      "source": [
        ""
      ],
      "execution_count": 0,
      "outputs": []
    },
    {
      "cell_type": "markdown",
      "metadata": {
        "id": "kd2IN3EgtK9b",
        "colab_type": "text"
      },
      "source": [
        "Las cadenas también pueden estar encerradas entre triple comillas dobles o simples. En este caso las cadenas son multilineas y podemos agregar un texto largo. La combinación de estas comillas pueden producir errores sintácticos, revisemos:"
      ]
    },
    {
      "cell_type": "code",
      "metadata": {
        "id": "NnVezfZ7uTf8",
        "colab_type": "code",
        "outputId": "8e95b6d0-9a25-449a-f1a0-767af2de179f",
        "colab": {
          "base_uri": "https://localhost:8080/",
          "height": 105
        }
      },
      "source": [
        "cadena1 = 'Un ejemplo simple: \"el escape\"'\n",
        "cadena2 = \"Otro ejemplo de escape simple f'(x)\"\n",
        "print(cadena1)\n",
        "print(cadena2)\n",
        "\n",
        "print()\n",
        "\n",
        "cadena3 = 'En este hay que escapar con un operador f\\'(x)'\n",
        "cadena4 = \"Para la gente que le gusta \\\"complicarse\\\" \"\n",
        "print(cadena3)\n",
        "print(cadena4)"
      ],
      "execution_count": 0,
      "outputs": [
        {
          "output_type": "stream",
          "text": [
            "Un ejemplo simple: \"el escape\"\n",
            "Otro ejemplo de escape simple f'(x)\n",
            "\n",
            "En este hay que escapar con un operador f'(x)\n",
            "Para la gente que le gusta \"complicarse\" \n"
          ],
          "name": "stdout"
        }
      ]
    },
    {
      "cell_type": "code",
      "metadata": {
        "id": "kjOUpkD2xRS-",
        "colab_type": "code",
        "outputId": "d4d3d8ca-e19e-463c-f736-e3e042fe8b55",
        "colab": {
          "base_uri": "https://localhost:8080/",
          "height": 122
        }
      },
      "source": [
        "cadena5 = '''En este \"caso\" nada de eso \n",
        "importa f'(x) '''\n",
        "cadena6 = \"\"\"En este \"caso\" tampoco \n",
        "importa f'(x) \"\"\"\n",
        "print(cadena5)\n",
        "print(cadena6)\n",
        "\n",
        "cadena7 = \"Podemos usar un salto \\n de línea o un \\t tabulador\"\n",
        "print(cadena7)"
      ],
      "execution_count": 0,
      "outputs": [
        {
          "output_type": "stream",
          "text": [
            "En este \"caso\" nada de eso \n",
            "importa f'(x) \n",
            "En este \"caso\" tampoco \n",
            "importa f'(x) \n",
            "Podemos usar un salto \n",
            " de línea o un \t tabulador\n"
          ],
          "name": "stdout"
        }
      ]
    },
    {
      "cell_type": "markdown",
      "metadata": {
        "id": "Y8gPH8363XHv",
        "colab_type": "text"
      },
      "source": [
        "## La cadenas de escape\n",
        "\n",
        "<table>\n",
        "<tr class=\"row-odd\"><th class=\"head\">Secuencia Escape</th>\n",
        "<th class=\"head\">Significado</th>\n",
        "</tr>\n",
        "</thead>\n",
        "<tbody valign=\"top\">\n",
        "<tr class=\"row-even\"><td><code class=\"docutils literal\"><span class=\"pre\">\\newline</span></code></td>\n",
        "<td>Ignorado</td>\n",
        "</tr>\n",
        "<tr class=\"row-odd\"><td><code class=\"docutils literal\"><span class=\"pre\">\\\\</span></code></td>\n",
        "<td>Backslash (<code class=\"docutils literal\"><span class=\"pre\">\\</span></code>)</td>\n",
        "</tr>\n",
        "<tr class=\"row-even\"><td><code class=\"docutils literal\"><span class=\"pre\">\\'</span></code></td>\n",
        "<td>Comillas simple (<code class=\"docutils literal\"><span class=\"pre\">'</span></code>)</td>\n",
        "</tr>\n",
        "<tr class=\"row-odd\"><td><code class=\"docutils literal\"><span class=\"pre\">\\&quot;</span></code></td>\n",
        "<td>Comillas doble (<code class=\"docutils literal\"><span class=\"pre\">&quot;</span></code>)</td>\n",
        "</tr>\n",
        "<tr class=\"row-even\"><td><code class=\"docutils literal\"><span class=\"pre\">\\a</span></code></td>\n",
        "<td>Bell ASCII (BEL)</td>\n",
        "</tr>\n",
        "<tr class=\"row-odd\"><td><code class=\"docutils literal\"><span class=\"pre\">\\b</span></code></td>\n",
        "<td>Backspace ASCII (BS)</td>\n",
        "</tr>\n",
        "\n",
        "<tr class=\"row-odd\"><td><code class=\"docutils literal\"><span class=\"pre\">\\n</span></code></td>\n",
        "<td>Linefeed ASCII (LF)</td>\n",
        "</tr>\n",
        "<tr class=\"row-even\"><td><code class=\"docutils literal\"><span class=\"pre\">\\N{name}</span></code></td>\n",
        "<td>Carácter llamado <em>name</em> en base\n",
        "de datos Unicode  <a href='https://unicode.org/charts/charindex.html'>(Solo Unicode)</a></td>\n",
        "</tr>\n",
        "<tr class=\"row-odd\"><td><code class=\"docutils literal\"><span class=\"pre\">\\r</span></code></td>\n",
        "<td>Carriage Return ASCII (CR)</td>\n",
        "</tr>\n",
        "<tr class=\"row-even\"><td><code class=\"docutils literal\"><span class=\"pre\">\\t</span></code></td>\n",
        "<td>Tabulación Horizontal ASCII (TAB)</td>\n",
        "</tr>\n",
        "<tr class=\"row-odd\"><td><code class=\"docutils literal\"><span class=\"pre\">\\uxxxx</span></code></td>\n",
        "<td>Carácter con valor hex 16-bit\n",
        "<em>xxxx</em> (Solamente Unicode).\n",
        "</td>\n",
        "</tr>\n",
        "<tr class=\"row-odd\"><td><code class=\"docutils literal\"><span class=\"pre\">\\xhh</span></code></td>\n",
        "<td>Carácter con valor hex <em>hh</em>.\n",
        "</td>\n",
        "</tr>\n",
        "</tbody>\n",
        "<caption>\n",
        "Tabla tomada de <a href=\"https://entrenamiento-python-basico.readthedocs.io/es/latest/leccion3/tipo_cadenas.html\"> aquí</a> </caption>\n",
        "</table>"
      ]
    },
    {
      "cell_type": "code",
      "metadata": {
        "id": "cfNgncv55BMI",
        "colab_type": "code",
        "outputId": "e2dcbfed-38bc-44ee-ddbe-7357e04dec8c",
        "colab": {
          "base_uri": "https://localhost:8080/",
          "height": 122
        }
      },
      "source": [
        "cadena_escapes = 'Los mismos simbolos: \\a \\7 \\nBorrando Hello\\b'\n",
        "print(cadena_escapes)\n",
        "print('Todo lo que es texto \\r ha evolucionado mucho')\n",
        "print('Una \\t tabla \\t tabulada')\n",
        "print(\"\\N{SOLIDUS} \\N{BLACK SPADE SUIT} \\N{BLACK STAR}\")\n",
        "print('\\u2660 \\u00ff \\xff ')"
      ],
      "execution_count": 0,
      "outputs": [
        {
          "output_type": "stream",
          "text": [
            "Los mismos simbolos: \u0007 \u0007 \n",
            "Borrando Hello\b\n",
            "Todo lo que es texto \r ha evolucionado mucho\n",
            "Una \t tabla \t tabulada\n",
            "/ ♠ ★\n",
            "♠ ÿ ÿ \n"
          ],
          "name": "stdout"
        }
      ]
    },
    {
      "cell_type": "markdown",
      "metadata": {
        "id": "24tbDORHyL7X",
        "colab_type": "text"
      },
      "source": [
        "## Los prefijos en las cadenas\n",
        "\n",
        "Una cadena puede estar precedida por el carácter:\n",
        "\n",
        "* r/R, el cual indica que se trata de una cadena raw (del inglés, cruda). Las cadenas raw se distinguen de las normales en que los caracteres escapados no aplican.\n",
        "\n",
        "* u/U, el cual indica, que se trata de una cadena que utiliza codificación unicode."
      ]
    },
    {
      "cell_type": "code",
      "metadata": {
        "id": "39eB-9JGublx",
        "colab_type": "code",
        "outputId": "d9f18aa4-11b7-4528-bfb3-3324f2e86df2",
        "colab": {
          "base_uri": "https://localhost:8080/",
          "height": 70
        }
      },
      "source": [
        "cadena_string = 'Una frase normal \\u0175 \u0007'\n",
        "cadena_unicode = u'Una frase que usa unicode \\u0025 \u0007'\n",
        "cadena_raw = r'Y una que no usa unicode % \\u0025 \u0007 ni \\n o \\t'\n",
        "print(cadena_string)\n",
        "print(cadena_unicode)\n",
        "print(cadena_raw)"
      ],
      "execution_count": 0,
      "outputs": [
        {
          "output_type": "stream",
          "text": [
            "Una frase normal ŵ \u0007\n",
            "Una frase que usa unicode % \u0007\n",
            "Y una que no usa unicode % \\u0025 \u0007 ni \\n o \\t\n"
          ],
          "name": "stdout"
        }
      ]
    },
    {
      "cell_type": "markdown",
      "metadata": {
        "id": "0lWpm9T1hUDc",
        "colab_type": "text"
      },
      "source": [
        "## Operaciones entre string\n",
        "\n",
        "* **Concatenar**: usando el operador suma (+) podemos unir cadenas \n",
        "* **Repetir**: usando el operador multiplicación (*) podemos repetir una cadena un número entero de veces\n",
        "* **Interpolar**: el operador módulo (%) con los string, es conocido como el operador de interpolación. Permite el formateo de una cadena, para ello se debe proveer el % seguido por el tipo que necesita ser formateado o convertido. El operador % entonces substituye la frase '%tipodato' según el caso. \n"
      ]
    },
    {
      "cell_type": "code",
      "metadata": {
        "id": "cADS6VFAyl1R",
        "colab_type": "code",
        "outputId": "b4d5dee7-fb33-415a-b2bc-352a39223883",
        "colab": {
          "base_uri": "https://localhost:8080/",
          "height": 87
        }
      },
      "source": [
        "cadena1 = 'una palabra'\n",
        "cadena2 = ', otra palabra'\n",
        "print(cadena1 + cadena2)\n",
        "cadena3 = 'Todo bien '\n",
        "print(cadena3*5)\n",
        "\n",
        "valor_entero = 5\n",
        "valor_real = -9.8\n",
        "valor_nc = 3e-5\n",
        "cadena4 = 'Una cadena'\n",
        "\n",
        "print('Para imprimir una cadena con una variable usamos el formato %')\n",
        "cadena_a_imprimir = 'Entero: %d, flotante: %f, Notación: %e, Cadena: %s'%(valor_entero,valor_real,valor_nc,cadena4)\n",
        "print(cadena_a_imprimir)"
      ],
      "execution_count": 0,
      "outputs": [
        {
          "output_type": "stream",
          "text": [
            "una palabra, otra palabra\n",
            "Todo bien Todo bien Todo bien Todo bien Todo bien \n",
            "Para imprimir una cadena con una variable usamos el formato %\n",
            "Entero: 5, flotante: -9.800000, Notación: 3.000000e-05, Cadena: Una cadena\n"
          ],
          "name": "stdout"
        }
      ]
    },
    {
      "cell_type": "markdown",
      "metadata": {
        "id": "F2bgN6ODvGOE",
        "colab_type": "text"
      },
      "source": [
        "## Los string son inmutables pero iterables\n",
        "\n",
        "Las cadenas de caracteres son iterables inmutables, es decir podemos acceder a ellos letra por letra e incluso seleccionar ciertos pedazos pero no podemos cambiar una letra directamente. \n",
        "\n"
      ]
    },
    {
      "cell_type": "code",
      "metadata": {
        "id": "-3LGt_qxvYZh",
        "colab_type": "code",
        "outputId": "fea1c1e2-603b-483f-f336-b29d0cf4143a",
        "colab": {
          "base_uri": "https://localhost:8080/",
          "height": 105
        }
      },
      "source": [
        "cadena1='Esto_es_una_cadena'\n",
        "print('Este es el primer carácter de la cadena: ',cadena1[0])\n",
        "print('La longitud de la cadena es: ',len(cadena1))\n",
        "print('Seleccionemos desde el carácter 5 al 11: ',cadena1[4:11])\n",
        "print('También podemos escribirla de a 2, ',cadena1[::2])\n",
        "print('O el último, ',cadena1[-1])\n",
        "#Esto es un error!\n",
        "#cadena1[0] = 'e'"
      ],
      "execution_count": 0,
      "outputs": [
        {
          "output_type": "stream",
          "text": [
            "Este es el primer carácter de la cadena:  E\n",
            "La longitud de la cadena es:  18\n",
            "Seleccionemos desde el carácter 5 al 11:  _es_una\n",
            "También podemos escribirla de a 2,  Et_suacdn\n",
            "O el último,  a\n"
          ],
          "name": "stdout"
        }
      ]
    },
    {
      "cell_type": "markdown",
      "metadata": {
        "id": "R_PSIlaSmtvV",
        "colab_type": "text"
      },
      "source": [
        "## Métodos \n",
        "\n",
        "En python todo es un objeto, los objetos tienen atributos y hacen ciertas cosas, la mayoría está asociado a un tipo o clase. Los string o el tipo **str** tienen varias propiedades o métodos, es decir que cuando creamos cualquier cadena de caracteres enseguida podemos acceder a estos. Los métodos son funciones internas que hacen muy fácil usar ciertos objetos en python. Veamos algunos\n",
        "\n",
        "Siendo str el nombre del objeto que es tipo string(str) tenemos:\n",
        "\n",
        "### Métodos con mayúsculas y minúsculas:\n",
        "* `str.capitalize()`: Primera letra en mayúscula.\n",
        "* `str.lower()`: Todas las letras en minúscula.\n",
        "* `str.upper()`: Todas las letras en mayúscula.\n",
        "* `str.swapcase()`: Invertir mayúsculas y minúsculas.\n",
        "* `str.title()`: Cada letra en mayúscula.\n",
        "\n",
        "\n"
      ]
    },
    {
      "cell_type": "code",
      "metadata": {
        "id": "kAACjU1ApnCi",
        "colab_type": "code",
        "outputId": "f8a27e0e-d229-43af-a2b4-d0f7045f1225",
        "colab": {
          "base_uri": "https://localhost:8080/",
          "height": 34
        }
      },
      "source": [
        "cadena = 'puede modificar esta cadena'\n",
        "### Imprima la cadena aplicando los métodos anteriores\n",
        "print(cadena.capitalize())"
      ],
      "execution_count": 0,
      "outputs": [
        {
          "output_type": "stream",
          "text": [
            "Puede modificar esta cadena\n"
          ],
          "name": "stdout"
        }
      ]
    },
    {
      "cell_type": "markdown",
      "metadata": {
        "id": "Zp762mctpgtl",
        "colab_type": "text"
      },
      "source": [
        "### Metodos de búsqueda\n",
        "\n",
        "* `str.count(caráter)`: Permite contar cuantos veces está el carácter\n",
        "en la cadena.\n",
        "* `str.find(cadena)`: Permite buscar una subcadena en una cadena, regresa el primer match.\n",
        "* `str.index(subcadena[, posicion_inicio, posicion_fin])`: Permite buscar una subcadena en una cadena y regresar la posición del primer match.\n",
        "* `str.rfind, str.rindex`: los mismo que las anteriores pero regresando el último match\n",
        "* `str.startswith(subcadena[, posicion_inicio, posicion_fin])`: Permite\n",
        "saber si la cadena comienza con cierta subcadena\n",
        "* `str.endswith(subcadena[, posicion_inicio, posicion_fin])`: Permite\n",
        "saber si la cadena termina con cierta subcadena\n",
        "\n"
      ]
    },
    {
      "cell_type": "code",
      "metadata": {
        "id": "wWBCGiIFqYwU",
        "colab_type": "code",
        "outputId": "77a87d8f-4b9f-4617-eb9a-3dc80bfd9b56",
        "colab": {
          "base_uri": "https://localhost:8080/",
          "height": 34
        }
      },
      "source": [
        "cadena = 'puede modificar esta cadena'\n",
        "### Imprima la cadena aplicando los métodos anteriores\n",
        "print(cadena.count('a'))"
      ],
      "execution_count": 0,
      "outputs": [
        {
          "output_type": "stream",
          "text": [
            "4\n"
          ],
          "name": "stdout"
        }
      ]
    },
    {
      "cell_type": "markdown",
      "metadata": {
        "id": "s-7LxZ-jqNnA",
        "colab_type": "text"
      },
      "source": [
        "### Métodos de exploración\n",
        "* `str.isalnum()`: Saber si es alfanumérica.\n",
        "* `str.isalpha()`: Saber si es alfabética.\n",
        "* `str.isdigits()`: Saber si es numérica.\n",
        "* `str.islower()`: Saber si sólo tiene minúsculas.\n",
        "* `str.isupper()`: Saber si sólo tiene mayúsculas.\n",
        "* `str.isspace()`:  Saber si sólo tiene espacios.\n",
        "\n"
      ]
    },
    {
      "cell_type": "code",
      "metadata": {
        "id": "YP34iD_rquKU",
        "colab_type": "code",
        "outputId": "88c4ca22-e61c-4ea8-e00e-e11dec8d1a07",
        "colab": {
          "base_uri": "https://localhost:8080/",
          "height": 34
        }
      },
      "source": [
        "cadena = 'puede modificar esta cadena'\n",
        "### Imprima la cadena usando los métodos anteriores\n",
        "print(cadena.islower())"
      ],
      "execution_count": 0,
      "outputs": [
        {
          "output_type": "stream",
          "text": [
            "True\n"
          ],
          "name": "stdout"
        }
      ]
    },
    {
      "cell_type": "markdown",
      "metadata": {
        "id": "aNa_9Pu2qSha",
        "colab_type": "text"
      },
      "source": [
        "### Métodos de modificación\n",
        "\n",
        "* `str.replace(cadena buscar,cadena a remplazar)`: Remplaza una\n",
        "cadena por otra (no in situ).\n",
        "* `str.strip()`: Eliminar caracteres a la derecha e izquierda de una\n",
        "cadena.\n",
        "* `str.join(str2)`: Retorna la cadena unida con el iterable (la cadena\n",
        "es separada por cada uno de los elementos del iterable).\n",
        "\n"
      ]
    },
    {
      "cell_type": "code",
      "metadata": {
        "id": "JyJ-pwUQrBE2",
        "colab_type": "code",
        "outputId": "00c71ec3-1ebe-4eb6-c1c7-4c315b0a98c7",
        "colab": {
          "base_uri": "https://localhost:8080/",
          "height": 34
        }
      },
      "source": [
        "cadena = 'puede modificar esta cadena'\n",
        "### Imprima la cadena usando los métodos anteriores\n",
        "print(cadena.replace(' ','*'))"
      ],
      "execution_count": 0,
      "outputs": [
        {
          "output_type": "stream",
          "text": [
            "puede*modificar*esta*cadena\n"
          ],
          "name": "stdout"
        }
      ]
    },
    {
      "cell_type": "markdown",
      "metadata": {
        "id": "DdEmPYMUq31I",
        "colab_type": "text"
      },
      "source": [
        "### Metódos de visualización\n",
        "* `str.split([separador])`: Separa una cadena en varias partes según\n",
        "separador.\n",
        "\n",
        "* `str.center(50[, symbol])`: Centrar cadena sola o con un símbolo.\n",
        "\n",
        "* `str.format(*args, **kwargs)`: Poder sustituir en una cadena según\n",
        "formato (tipo bash).\n"
      ]
    },
    {
      "cell_type": "code",
      "metadata": {
        "id": "LQP5wrOzpggG",
        "colab_type": "code",
        "outputId": "3dc892d2-7e5a-4b47-b0d7-d47dd5813127",
        "colab": {
          "base_uri": "https://localhost:8080/",
          "height": 70
        }
      },
      "source": [
        "cadena = 'puede modificar esta cadena'\n",
        "print(cadena.split(' '))\n",
        "print('Python'.center(50,'*'))\n",
        "\n",
        "########## USO DE FORMAT ###########\n",
        "print('Entero {0} y Real {1:.3f}'.format(valor_entero,valor_real))"
      ],
      "execution_count": 0,
      "outputs": [
        {
          "output_type": "stream",
          "text": [
            "['puede', 'modificar', 'esta', 'cadena']\n",
            "**********************Python**********************\n",
            "Entero 5 y Real -9.800\n"
          ],
          "name": "stdout"
        }
      ]
    },
    {
      "cell_type": "markdown",
      "metadata": {
        "id": "l-WreggOshhb",
        "colab_type": "text"
      },
      "source": [
        "## Ejercicios\n",
        "\n",
        "### Ejercicio 1 \n",
        "\n",
        "Usando la función `input('Ingrese un caráter: ')`, ingrese un carácter cualquier dede su teclado. Siempre que sea sólo un caráter y determine si es una letra, mayúscula, minúscula, digito, espacio u otro. \n",
        "\n",
        "### Ejercicio 2\n",
        "\n",
        "Se ha obtenido la siguiente cadena corrupta `cadena = \"zeréP nauJ,01\"` y deseamos transformala a `(Nombre) (Apellido) ha sacado un (Nota) de nota`\n",
        "\n",
        "### Ejercicio 3\n",
        "\n",
        "El nickname de un usuario debe contener mínimo 6 caracteres y un máximo de 12, el nombre debe tener sólo letras y ninguna mayúscula. En una celda de código, verifique (asumiendo varios casos) si un nickname es válido o no. \n",
        "\n",
        "### Ejercicio 4\n",
        "\n",
        "La contraseña no puede ser menor a 8, debe tener letras, digitos y carácteres sin espacios. En una celda de código, verifique (asumiendo varios casos) si una contraseña es válida o no. \n",
        "\n",
        "\n",
        "\n",
        "\n",
        "\n",
        "\n"
      ]
    },
    {
      "cell_type": "markdown",
      "metadata": {
        "id": "HDNOU-IcbyQB",
        "colab_type": "text"
      },
      "source": [
        "# Python: Listas"
      ]
    },
    {
      "cell_type": "markdown",
      "metadata": {
        "id": "fE6-kF3ZeUCG",
        "colab_type": "text"
      },
      "source": [
        "## **Introducción:**\n",
        "\n",
        "En esta sección se presenta uno de los tipos integrados más útiles de Python, las **listas**.\n",
        "\n",
        "Al igual que un **string**, una lista es una secuencia de valores. En un string los valores son caracteres; en una **lista**, se puede tener **cualquier tipo**. Los **valores de una lista** se denominan **elementos**.\n",
        "\n",
        "Hay varias formas de crear una nueva lista; la forma más simple es encerrar los elementos entre corchetes `([a,b,c])`:"
      ]
    },
    {
      "cell_type": "code",
      "metadata": {
        "id": "uJPry6-xfc4R",
        "colab_type": "code",
        "outputId": "0897c7f8-9e43-46cb-f695-2b9428a8c6e7",
        "colab": {
          "base_uri": "https://localhost:8080/",
          "height": 34
        }
      },
      "source": [
        "glist = ['Hola', 4, [1,2,3,4], 'Chao']\n",
        "glist"
      ],
      "execution_count": 0,
      "outputs": [
        {
          "output_type": "execute_result",
          "data": {
            "text/plain": [
              "['Hola', 4, [1, 2, 3, 4], 'Chao']"
            ]
          },
          "metadata": {
            "tags": []
          },
          "execution_count": 85
        }
      ]
    },
    {
      "cell_type": "markdown",
      "metadata": {
        "id": "JEm40WE-gEmQ",
        "colab_type": "text"
      },
      "source": [
        "Para acceder a los elementos de la lista lo hacemos mediante siguiendo la indexación \n",
        "\n",
        "`glist[0]`$\\rightarrow$ elemento 1 de la lista.\n",
        "\n",
        "`glist[1]`$\\rightarrow$ elemento 2 de la lista.\n",
        "\n",
        "`glist[2]`$\\rightarrow$ elemento 3 de la lista.\n",
        "\n",
        "`glist[3]`$\\rightarrow$ elemento 4 de la lista.\n",
        "\n",
        "Imprimamos a continuación, cada uno de los elementos que definimos en nuesta primera lista `glist`:\n"
      ]
    },
    {
      "cell_type": "code",
      "metadata": {
        "id": "_imlyYSuf4bP",
        "colab_type": "code",
        "outputId": "e8405f96-a1d7-4346-fce5-6cbf15e76f36",
        "colab": {
          "base_uri": "https://localhost:8080/",
          "height": 84
        }
      },
      "source": [
        "print(glist[0])\n",
        "print(glist[1])\n",
        "print(glist[2])\n",
        "print(glist[3])"
      ],
      "execution_count": 0,
      "outputs": [
        {
          "output_type": "stream",
          "text": [
            "Hola\n",
            "4\n",
            "[1, 2, 3, 4]\n",
            "Chao\n"
          ],
          "name": "stdout"
        }
      ]
    },
    {
      "cell_type": "markdown",
      "metadata": {
        "id": "b1Bz1-h2g-b3",
        "colab_type": "text"
      },
      "source": [
        "Nótese que el elemento 3 (`g[2]`) es un lista. Decimos entonces, que la lista `glist` es una **lista anidad**, pues puede contener otra lista. \n",
        "\n",
        "Veamos que tipo representa la variable glist:"
      ]
    },
    {
      "cell_type": "code",
      "metadata": {
        "id": "UMB9Q_Tzvr9M",
        "colab_type": "code",
        "outputId": "65521127-a955-4fc5-d0fd-8325e657ea0b",
        "colab": {
          "base_uri": "https://localhost:8080/",
          "height": 34
        }
      },
      "source": [
        "print(type(glist))"
      ],
      "execution_count": 0,
      "outputs": [
        {
          "output_type": "stream",
          "text": [
            "<class 'list'>\n"
          ],
          "name": "stdout"
        }
      ]
    },
    {
      "cell_type": "markdown",
      "metadata": {
        "id": "CzZ8AO4Kv_2Z",
        "colab_type": "text"
      },
      "source": [
        "Es importanta resaltar en este punto que **glist es un objeto de la clase list** y como tal, hereda unos metodos con los cuales podemos operar, los cuales veremos más adelante.\n",
        "\n",
        "Para saber el número de elementos de una lista, podemos invocar la función predefinida en `python` `len()`. En el caso de la lista `glist`, el número o longitud de la lista es:"
      ]
    },
    {
      "cell_type": "code",
      "metadata": {
        "id": "Xu_81373IVnZ",
        "colab_type": "code",
        "outputId": "5adb5aa8-2556-4690-bf25-4bcc1afd83d6",
        "colab": {
          "base_uri": "https://localhost:8080/",
          "height": 34
        }
      },
      "source": [
        "len(glist)"
      ],
      "execution_count": 0,
      "outputs": [
        {
          "output_type": "execute_result",
          "data": {
            "text/plain": [
              "4"
            ]
          },
          "metadata": {
            "tags": []
          },
          "execution_count": 88
        }
      ]
    },
    {
      "cell_type": "markdown",
      "metadata": {
        "id": "bwXZ9_YavmU0",
        "colab_type": "text"
      },
      "source": [
        "Una lista vacia puede ser definida de la forma:"
      ]
    },
    {
      "cell_type": "code",
      "metadata": {
        "id": "fd1J2T9ghyq9",
        "colab_type": "code",
        "outputId": "059c2caa-f0a3-457b-8884-f8286ea5294b",
        "colab": {
          "base_uri": "https://localhost:8080/",
          "height": 34
        }
      },
      "source": [
        "empty_list = []\n",
        "\n",
        "len(empty_list)"
      ],
      "execution_count": 0,
      "outputs": [
        {
          "output_type": "execute_result",
          "data": {
            "text/plain": [
              "0"
            ]
          },
          "metadata": {
            "tags": []
          },
          "execution_count": 89
        }
      ]
    },
    {
      "cell_type": "markdown",
      "metadata": {
        "id": "H7fKC8B_itj9",
        "colab_type": "text"
      },
      "source": [
        "##**Reasignación en elementos de una lista:**\n",
        "\n",
        "La sintaxis para acceder a los elementos de una lista es la misma que para acceder a los caracteres de una cadena: el **operador corchetes** `[]`. La expresión dentro de los corchetes especifica el índice. En python **los índices empiezan en 0**.\n",
        "\n",
        "A diferencia de las cadenas, **las listas permiten la reasignación**. Cuando el operador corchetes aparece en el lado izquierdo de un `=`, identifica el elemento de la lista que reasignará.\n",
        "\n",
        "Supongamos que tenemos la siguiente lista de números:"
      ]
    },
    {
      "cell_type": "code",
      "metadata": {
        "id": "x-pqYIU1vIsp",
        "colab_type": "code",
        "outputId": "99531d3a-babf-4a42-ec3c-9effd2a0951e",
        "colab": {
          "base_uri": "https://localhost:8080/",
          "height": 50
        }
      },
      "source": [
        "numbers = [1,55,133,200]\n",
        "print(\"Lista numbers: \", numbers)\n",
        "print(\"El tipo es: \", type(numbers))"
      ],
      "execution_count": 0,
      "outputs": [
        {
          "output_type": "stream",
          "text": [
            "Lista numbers:  [1, 55, 133, 200]\n",
            "El tipo es:  <class 'list'>\n"
          ],
          "name": "stdout"
        }
      ]
    },
    {
      "cell_type": "markdown",
      "metadata": {
        "id": "BDSqgWJmwWOV",
        "colab_type": "text"
      },
      "source": [
        "Consultemos el elemento de la lista `numbers` almacenado en la posición 3:"
      ]
    },
    {
      "cell_type": "code",
      "metadata": {
        "id": "1TyCELl2wVd-",
        "colab_type": "code",
        "outputId": "c5bc5fda-fd59-43b9-9578-1ee7e849181e",
        "colab": {
          "base_uri": "https://localhost:8080/",
          "height": 34
        }
      },
      "source": [
        "print('El elemento de numbers almacenado en la posición 3 es: ',numbers[2])"
      ],
      "execution_count": 0,
      "outputs": [
        {
          "output_type": "stream",
          "text": [
            "El elemento de numbers almacenado en la posición 3 es:  133\n"
          ],
          "name": "stdout"
        }
      ]
    },
    {
      "cell_type": "markdown",
      "metadata": {
        "id": "vdVLboT4wth6",
        "colab_type": "text"
      },
      "source": [
        "Si queremos cambiar este número por 33, por ejemplo, le reasignamos dicho valor con el operardor `=`:"
      ]
    },
    {
      "cell_type": "code",
      "metadata": {
        "id": "SF0AvrKfw5x3",
        "colab_type": "code",
        "outputId": "1e43f497-f728-4d4f-d86c-e071dec79226",
        "colab": {
          "base_uri": "https://localhost:8080/",
          "height": 34
        }
      },
      "source": [
        "numbers[2]=33\n",
        "\n",
        "print(\"La nueva lista es:\", numbers)"
      ],
      "execution_count": 0,
      "outputs": [
        {
          "output_type": "stream",
          "text": [
            "La nueva lista es: [1, 55, 33, 200]\n"
          ],
          "name": "stdout"
        }
      ]
    },
    {
      "cell_type": "markdown",
      "metadata": {
        "id": "zgIvOkIuxGD9",
        "colab_type": "text"
      },
      "source": [
        "Nótese que el elemento de la lista de la tercera posición ahora tiene un valor de 33.\n",
        "\n",
        "Los índices de lista funcionan de la misma manera que los índices en un `string`:\n",
        "\n",
        "- Cualquier número entero se puede usar como índice.\n",
        "- Si intenta leer o escribir un elemento que no existe, obtendrá un `IndexError`.\n",
        "- Si un índice tiene un valor negativo, cuenta hacia atrás desde el final de la lista.\n",
        "\n",
        "El operador `in` también opera sobre listas:"
      ]
    },
    {
      "cell_type": "code",
      "metadata": {
        "id": "Iz7uX3L05cec",
        "colab_type": "code",
        "outputId": "ac51f1b9-1a3b-464b-811c-426e92db64ab",
        "colab": {
          "base_uri": "https://localhost:8080/",
          "height": 34
        }
      },
      "source": [
        "quesos = ['cheddar','brie','manchego','cuajada','quesillo','quesito']\n",
        "\n",
        "'quesito' in quesos"
      ],
      "execution_count": 0,
      "outputs": [
        {
          "output_type": "execute_result",
          "data": {
            "text/plain": [
              "True"
            ]
          },
          "metadata": {
            "tags": []
          },
          "execution_count": 93
        }
      ]
    },
    {
      "cell_type": "markdown",
      "metadata": {
        "id": "fFLTaRfe6Mya",
        "colab_type": "text"
      },
      "source": [
        "## **Operaciones entre listas:**\n",
        "\n",
        "Existen, básicamente, dos operaciónes entre listas.\n",
        "\n",
        "- Operador de concatenación `+` $\\rightarrow$ `a+b` concatena las listas `a` y `b`.\n",
        "- Operador de repetición `*`$\\rightarrow$ ['a']*4 repite cuatro veces el caracter 'a'."
      ]
    },
    {
      "cell_type": "code",
      "metadata": {
        "id": "5cf5H10xJ2aB",
        "colab_type": "code",
        "outputId": "da673c22-070d-4284-b603-b08909069cb9",
        "colab": {
          "base_uri": "https://localhost:8080/",
          "height": 34
        }
      },
      "source": [
        "# Concatenación.\n",
        "\n",
        "a = [1,2,3,4]\n",
        "b = [5,6,7,8]\n",
        "\n",
        "c = a+b\n",
        "\n",
        "print(\"Resultado de la concatenación de las listas a+b=c: \",c)"
      ],
      "execution_count": 0,
      "outputs": [
        {
          "output_type": "stream",
          "text": [
            "Resultado de la concatenación de las listas a+b=c:  [1, 2, 3, 4, 5, 6, 7, 8]\n"
          ],
          "name": "stdout"
        }
      ]
    },
    {
      "cell_type": "code",
      "metadata": {
        "id": "kpBqNr5wKs7D",
        "colab_type": "code",
        "outputId": "681a370e-e856-4ef9-dc97-a868020ed5c1",
        "colab": {
          "base_uri": "https://localhost:8080/",
          "height": 34
        }
      },
      "source": [
        "# Repetición.\n",
        "\n",
        "r = [\"a\"]*4\n",
        "\n",
        "print(\"El resultado de [\\\"a\\\"]*4 es: \", r)"
      ],
      "execution_count": 0,
      "outputs": [
        {
          "output_type": "stream",
          "text": [
            "El resultado de [\"a\"]*4 es:  ['a', 'a', 'a', 'a']\n"
          ],
          "name": "stdout"
        }
      ]
    },
    {
      "cell_type": "markdown",
      "metadata": {
        "id": "WvwPhzWGKUN_",
        "colab_type": "text"
      },
      "source": [
        "## **Seccionado de listas (List slices):**\n",
        "\n",
        "El operador de secionado `:` tambien puede ser usado en las listas. En general funciona de la forma:\n",
        "\n",
        "\n",
        "\n",
        "```\n",
        "lalista[inicio:final]\n",
        "```\n",
        "\n",
        "Seccionando `lalista` entre los ídices `inicio` y `final`. Veamos esto:\n"
      ]
    },
    {
      "cell_type": "code",
      "metadata": {
        "id": "arrGbufjMj-h",
        "colab_type": "code",
        "colab": {}
      },
      "source": [
        "numbers = [1,2,3,4,5,6,7,8,9]"
      ],
      "execution_count": 0,
      "outputs": []
    },
    {
      "cell_type": "code",
      "metadata": {
        "id": "QPoI0QH-NSNj",
        "colab_type": "code",
        "outputId": "294bcce8-6e3b-4cef-dfcb-f1536bf3b588",
        "colab": {
          "base_uri": "https://localhost:8080/",
          "height": 67
        }
      },
      "source": [
        "print('Parte 1: ', numbers[0:3])\n",
        "print('Parte 2: ', numbers[3:6])\n",
        "print('Parte 3: ', numbers[6:9])"
      ],
      "execution_count": 0,
      "outputs": [
        {
          "output_type": "stream",
          "text": [
            "Parte 1:  [1, 2, 3]\n",
            "Parte 2:  [4, 5, 6]\n",
            "Parte 3:  [7, 8, 9]\n"
          ],
          "name": "stdout"
        }
      ]
    },
    {
      "cell_type": "markdown",
      "metadata": {
        "id": "eAUBrzvsO2dx",
        "colab_type": "text"
      },
      "source": [
        "Si no especificamos en el seccionado de la lista el `inicio` y el `final`, `python` entenderá por defecto el inicio de la lista y el final de la misma (es decir, la lista entera):"
      ]
    },
    {
      "cell_type": "code",
      "metadata": {
        "id": "D4Vm9rAtO1CX",
        "colab_type": "code",
        "outputId": "1cc4b06a-c474-436f-cabd-7ea6c6dbb895",
        "colab": {
          "base_uri": "https://localhost:8080/",
          "height": 34
        }
      },
      "source": [
        "numbers[:]"
      ],
      "execution_count": 0,
      "outputs": [
        {
          "output_type": "execute_result",
          "data": {
            "text/plain": [
              "[1, 2, 3, 4, 5, 6, 7, 8, 9]"
            ]
          },
          "metadata": {
            "tags": []
          },
          "execution_count": 98
        }
      ]
    },
    {
      "cell_type": "markdown",
      "metadata": {
        "id": "Hh1UavrIRcUG",
        "colab_type": "text"
      },
      "source": [
        "De manera análoga, si especificamos el `final` pero no el `inicio`, `python` asignará al `inicio` el principio del la lista; si especificamos el `inicio` pero no el `final`, tomará el `final` como la el último índice de la lista. Veamos esto:"
      ]
    },
    {
      "cell_type": "code",
      "metadata": {
        "id": "P3OgwFfURbjk",
        "colab_type": "code",
        "outputId": "0621951e-606b-4caf-9874-7987f2aa35d9",
        "colab": {
          "base_uri": "https://localhost:8080/",
          "height": 50
        }
      },
      "source": [
        "print(numbers[:5])\n",
        "print(numbers[5:])"
      ],
      "execution_count": 0,
      "outputs": [
        {
          "output_type": "stream",
          "text": [
            "[1, 2, 3, 4, 5]\n",
            "[6, 7, 8, 9]\n"
          ],
          "name": "stdout"
        }
      ]
    },
    {
      "cell_type": "markdown",
      "metadata": {
        "id": "TEkYeCXGSbzL",
        "colab_type": "text"
      },
      "source": [
        "## **Métodos de la clase lista:**\n",
        "\n",
        "Cómo mencionamos anteriormente, las listas corresponden a una clase de `python`. Cuando definimos una \"variable\" de una clase, hablamos de la creación de un **objeto** de esa clase. Todos los objetos heran **métodos** y **atributos** de la clase a la que pertenecen.\n",
        "\n",
        "Cuando declaramos una lista compuesta por números de la forma:\n",
        "\n",
        "\n",
        "\n",
        "```\n",
        "numbers = [0,1,2,3,4,5,6,7,8,9]\n",
        "```\n",
        "\n",
        "Una vez creada, en google colab podemos acceder a los métodos mediante el operador `.`, escribiendo `numbers.` y esperamos a que nos salgan los métodos disponibles para nuestro objeto de la clase `list`. Al realizar este procedimiento, nos aparecerán los siguiente métodos:\n",
        "\n",
        "\n",
        "<center><p class=\"aligncenter\">\n",
        "    <img src=\"https://github.com/diplomado-bigdata-machinelearning-udea/curso0/blob/master/s03/img/metoods_lista.png?raw=true\" alt=\"centered image\" />\n",
        "</p></center>\n",
        "\n",
        "Nótese, además, que cuando nos posicionamos en uno de los métodos desplegados, colab nos indica el que es una función o metodo predefinido: `built_function_or_method`.\n",
        "\n",
        "\n",
        "Vemos alguno métodos útiles de la clase lista.\n",
        "\n",
        "\n"
      ]
    },
    {
      "cell_type": "markdown",
      "metadata": {
        "id": "es4lxllHbrHN",
        "colab_type": "text"
      },
      "source": [
        "## **append**: \n",
        "\n",
        "Mediante el método `append()` se pude agregar un elemento al final de la lista, recibiendo como argumento, el elemento que se pretende agregar."
      ]
    },
    {
      "cell_type": "code",
      "metadata": {
        "id": "BXe0_ROsTZYn",
        "colab_type": "code",
        "outputId": "ff398f74-2a86-4734-aafb-01955c9b3b0b",
        "colab": {
          "base_uri": "https://localhost:8080/",
          "height": 34
        }
      },
      "source": [
        "numbers"
      ],
      "execution_count": 0,
      "outputs": [
        {
          "output_type": "execute_result",
          "data": {
            "text/plain": [
              "[1, 2, 3, 4, 5, 6, 7, 8, 9]"
            ]
          },
          "metadata": {
            "tags": []
          },
          "execution_count": 100
        }
      ]
    },
    {
      "cell_type": "code",
      "metadata": {
        "id": "DGo1JENvb-MJ",
        "colab_type": "code",
        "outputId": "2126b4f3-fd06-4082-e66d-1221b5811ffe",
        "colab": {
          "base_uri": "https://localhost:8080/",
          "height": 34
        }
      },
      "source": [
        "numbers.append(10)\n",
        "numbers"
      ],
      "execution_count": 0,
      "outputs": [
        {
          "output_type": "execute_result",
          "data": {
            "text/plain": [
              "[1, 2, 3, 4, 5, 6, 7, 8, 9, 10]"
            ]
          },
          "metadata": {
            "tags": []
          },
          "execution_count": 101
        }
      ]
    },
    {
      "cell_type": "markdown",
      "metadata": {
        "id": "wO_f9FflcYtM",
        "colab_type": "text"
      },
      "source": [
        "## **copy:**\n",
        "\n",
        "El método `.copy()` realiza una de una lista que puede asignársele a una lista nueva. Este método no recibe ningún argumento."
      ]
    },
    {
      "cell_type": "code",
      "metadata": {
        "id": "m_zzcJb3cZg7",
        "colab_type": "code",
        "outputId": "17f31427-998f-437d-9832-44c84a1aeae0",
        "colab": {
          "base_uri": "https://localhost:8080/",
          "height": 34
        }
      },
      "source": [
        "new_numbers = numbers.copy()\n",
        "new_numbers"
      ],
      "execution_count": 0,
      "outputs": [
        {
          "output_type": "execute_result",
          "data": {
            "text/plain": [
              "[1, 2, 3, 4, 5, 6, 7, 8, 9, 10]"
            ]
          },
          "metadata": {
            "tags": []
          },
          "execution_count": 102
        }
      ]
    },
    {
      "cell_type": "markdown",
      "metadata": {
        "id": "Xim1FReOeJX_",
        "colab_type": "text"
      },
      "source": [
        "También podemos realizar una copia en `new_numbers` mediante una simple asignación:"
      ]
    },
    {
      "cell_type": "code",
      "metadata": {
        "id": "g99VBsNmeImt",
        "colab_type": "code",
        "outputId": "b35c63ce-be26-479d-e9e0-7a6ce0910e22",
        "colab": {
          "base_uri": "https://localhost:8080/",
          "height": 34
        }
      },
      "source": [
        "new_numbers = numbers\n",
        "new_numbers"
      ],
      "execution_count": 0,
      "outputs": [
        {
          "output_type": "execute_result",
          "data": {
            "text/plain": [
              "[1, 2, 3, 4, 5, 6, 7, 8, 9, 10]"
            ]
          },
          "metadata": {
            "tags": []
          },
          "execution_count": 103
        }
      ]
    },
    {
      "cell_type": "markdown",
      "metadata": {
        "id": "Ae2ePJL2eu-6",
        "colab_type": "text"
      },
      "source": [
        "Además, es posible realizar una copia utilizando el método de seccionado. Por ejemplo, si queremos cuardar los tres primero números de la lista `number` lo podemos realizar de la siguiente forma:"
      ]
    },
    {
      "cell_type": "code",
      "metadata": {
        "id": "-3hjoiPVfvgD",
        "colab_type": "code",
        "outputId": "af2df338-9701-4ca7-ceef-d1bab580d82f",
        "colab": {
          "base_uri": "https://localhost:8080/",
          "height": 34
        }
      },
      "source": [
        "new_numbers = numbers[0:3]\n",
        "new_numbers"
      ],
      "execution_count": 0,
      "outputs": [
        {
          "output_type": "execute_result",
          "data": {
            "text/plain": [
              "[1, 2, 3]"
            ]
          },
          "metadata": {
            "tags": []
          },
          "execution_count": 104
        }
      ]
    },
    {
      "cell_type": "markdown",
      "metadata": {
        "id": "nYO_Uxselgtl",
        "colab_type": "text"
      },
      "source": [
        "## **extend:**\n",
        "\n",
        "Mediante el método `.extend()`, podemos extender una lista pasando como argumento un iterable (otra lista por ejemplo). De esta forma, podemos agregar tantos elementos como hayan en el itereable:"
      ]
    },
    {
      "cell_type": "code",
      "metadata": {
        "id": "br-UQPstmMKJ",
        "colab_type": "code",
        "outputId": "85dc0a43-fe2b-4438-d6cb-883c99168b9c",
        "colab": {
          "base_uri": "https://localhost:8080/",
          "height": 34
        }
      },
      "source": [
        "new_numbers.extend([22,33,44])\n",
        "\n",
        "print(new_numbers)"
      ],
      "execution_count": 0,
      "outputs": [
        {
          "output_type": "stream",
          "text": [
            "[1, 2, 3, 22, 33, 44]\n"
          ],
          "name": "stdout"
        }
      ]
    },
    {
      "cell_type": "markdown",
      "metadata": {
        "id": "f2Frg-LBorWQ",
        "colab_type": "text"
      },
      "source": [
        "## **index**:\n",
        "\n",
        "La función `.index(valor,inicio,final)` nos devuelve el índice de un valor dado entre las posiciones `inicio` y `final`, siempre y cuando esté en la lista:"
      ]
    },
    {
      "cell_type": "code",
      "metadata": {
        "id": "cuGRiKKzm5MS",
        "colab_type": "code",
        "outputId": "37a3b53c-51b4-4a04-f34d-c88257dd3a00",
        "colab": {
          "base_uri": "https://localhost:8080/",
          "height": 34
        }
      },
      "source": [
        "new_numbers.index(33,2,5)"
      ],
      "execution_count": 0,
      "outputs": [
        {
          "output_type": "execute_result",
          "data": {
            "text/plain": [
              "4"
            ]
          },
          "metadata": {
            "tags": []
          },
          "execution_count": 106
        }
      ]
    },
    {
      "cell_type": "markdown",
      "metadata": {
        "id": "ZYZOpn_apfsJ",
        "colab_type": "text"
      },
      "source": [
        "En caso de no especificar el inicio y el final, asumirá el inicio y final de la lista:"
      ]
    },
    {
      "cell_type": "code",
      "metadata": {
        "id": "qOTi3toapes1",
        "colab_type": "code",
        "outputId": "22d40b65-439d-4716-8938-ae15c1ad8b03",
        "colab": {
          "base_uri": "https://localhost:8080/",
          "height": 34
        }
      },
      "source": [
        "new_numbers.index(3)"
      ],
      "execution_count": 0,
      "outputs": [
        {
          "output_type": "execute_result",
          "data": {
            "text/plain": [
              "2"
            ]
          },
          "metadata": {
            "tags": []
          },
          "execution_count": 107
        }
      ]
    },
    {
      "cell_type": "markdown",
      "metadata": {
        "id": "DlPemQ6SqGko",
        "colab_type": "text"
      },
      "source": [
        "## **insert**\n",
        "\n",
        "Al contrario de `L.append()`, que adiciona un elemento al final de la lista, `L.insert(índice,objeto)` lo agrega un `objeto` en la posición indicada por `indice`. \n",
        "\n",
        "Almacenemos, por ejemplo, las tres últimas vocales en una lista."
      ]
    },
    {
      "cell_type": "code",
      "metadata": {
        "id": "3gQ0_LkUq_vB",
        "colab_type": "code",
        "outputId": "4639531d-223b-4c0c-9e29-902dd98522c0",
        "colab": {
          "base_uri": "https://localhost:8080/",
          "height": 34
        }
      },
      "source": [
        "vocales = ['i','o','u']\n",
        "vocales"
      ],
      "execution_count": 0,
      "outputs": [
        {
          "output_type": "execute_result",
          "data": {
            "text/plain": [
              "['i', 'o', 'u']"
            ]
          },
          "metadata": {
            "tags": []
          },
          "execution_count": 108
        }
      ]
    },
    {
      "cell_type": "markdown",
      "metadata": {
        "id": "ZsG5TmnCr-fv",
        "colab_type": "text"
      },
      "source": [
        "Para agregar las vocales faltantes al inicio de la lista `vocales` lo hacemos de la siguiente forma:"
      ]
    },
    {
      "cell_type": "code",
      "metadata": {
        "id": "jQF8xKSKrK11",
        "colab_type": "code",
        "outputId": "0d713b40-8496-48bc-e813-ae2b79286353",
        "colab": {
          "base_uri": "https://localhost:8080/",
          "height": 34
        }
      },
      "source": [
        "vocales.insert(0,'e')\n",
        "vocales.insert(0,'a')\n",
        "vocales"
      ],
      "execution_count": 0,
      "outputs": [
        {
          "output_type": "execute_result",
          "data": {
            "text/plain": [
              "['a', 'e', 'i', 'o', 'u']"
            ]
          },
          "metadata": {
            "tags": []
          },
          "execution_count": 109
        }
      ]
    },
    {
      "cell_type": "markdown",
      "metadata": {
        "id": "v96IHyHesxC9",
        "colab_type": "text"
      },
      "source": [
        "##**pop y revomove:**\n",
        "\n",
        "Si pretendemos eliminar algún elemento de una lista, existe en `python` dos métodos que cumplen este fin. \n",
        "\n",
        "Por una parte, el método `L.pop(índice)` elimina el valor contenido la posición `índice`. Por otra parte, si queremos eliminar un valor contenido en la lista, usamos el método `L.remove(valor)`. \n",
        "\n",
        "Veamos esto mediante dos ejemplos  aplicados en una misma lista:"
      ]
    },
    {
      "cell_type": "code",
      "metadata": {
        "id": "hOqX8XyasU3X",
        "colab_type": "code",
        "outputId": "cb7fbd8e-4d7a-43db-970f-5ff9b41c159c",
        "colab": {
          "base_uri": "https://localhost:8080/",
          "height": 34
        }
      },
      "source": [
        "\n",
        "# Remoción en lista mediante el índice.\n",
        "vocales.pop(0)\n",
        "vocales"
      ],
      "execution_count": 0,
      "outputs": [
        {
          "output_type": "execute_result",
          "data": {
            "text/plain": [
              "['e', 'i', 'o', 'u']"
            ]
          },
          "metadata": {
            "tags": []
          },
          "execution_count": 110
        }
      ]
    },
    {
      "cell_type": "code",
      "metadata": {
        "id": "W_RBlTuZumAY",
        "colab_type": "code",
        "outputId": "66f2fbe4-aac7-4bf3-c193-62643b8c2106",
        "colab": {
          "base_uri": "https://localhost:8080/",
          "height": 34
        }
      },
      "source": [
        "# Remoción en lista de un valor:\n",
        "vocales.remove('e')\n",
        "vocales"
      ],
      "execution_count": 0,
      "outputs": [
        {
          "output_type": "execute_result",
          "data": {
            "text/plain": [
              "['i', 'o', 'u']"
            ]
          },
          "metadata": {
            "tags": []
          },
          "execution_count": 111
        }
      ]
    },
    {
      "cell_type": "markdown",
      "metadata": {
        "id": "cawcwgYfxCEg",
        "colab_type": "text"
      },
      "source": [
        "##**sort:**\n",
        "\n",
        "Si dentro de una lista contenemos diferentes nombres o apellidos, sería excelente contar con un método que nos permitiese organizar la lista en orden alfabético. \n",
        "\n",
        "El método `L.sort(key=None, reverse=False)` nos permite llevar a cabo esta tarea, teniendo en cuenta que la ordenación la se realizará teniendo en cuenta la siguiente gerarquía por defecto (es decir, si llamamos el método sin argumentos):\n",
        "\n",
        "- Caracteres especiales.\n",
        "- Números\n",
        "- Letras en máyusculas.\n",
        "- Letras en minúsculas."
      ]
    },
    {
      "cell_type": "code",
      "metadata": {
        "id": "BFK7eURaw2fM",
        "colab_type": "code",
        "outputId": "7a678ad3-af1e-4fca-a824-9af086c943ba",
        "colab": {
          "base_uri": "https://localhost:8080/",
          "height": 34
        }
      },
      "source": [
        "aList = ['@','#','!','1','2','3','a','b','c','A','B','C']\n",
        "aList"
      ],
      "execution_count": 0,
      "outputs": [
        {
          "output_type": "execute_result",
          "data": {
            "text/plain": [
              "['@', '#', '!', '1', '2', '3', 'a', 'b', 'c', 'A', 'B', 'C']"
            ]
          },
          "metadata": {
            "tags": []
          },
          "execution_count": 112
        }
      ]
    },
    {
      "cell_type": "code",
      "metadata": {
        "id": "OjpWitsv3gzV",
        "colab_type": "code",
        "outputId": "85718386-16c8-49ba-f8b6-85a42867f4c3",
        "colab": {
          "base_uri": "https://localhost:8080/",
          "height": 34
        }
      },
      "source": [
        "aList.sort()\n",
        "aList"
      ],
      "execution_count": 0,
      "outputs": [
        {
          "output_type": "execute_result",
          "data": {
            "text/plain": [
              "['!', '#', '1', '2', '3', '@', 'A', 'B', 'C', 'a', 'b', 'c']"
            ]
          },
          "metadata": {
            "tags": []
          },
          "execution_count": 113
        }
      ]
    },
    {
      "cell_type": "markdown",
      "metadata": {
        "id": "5DK9Er1R4f8S",
        "colab_type": "text"
      },
      "source": [
        "Si especificamos en el argumento `reverse=True`, obtendremos la organización de forma invertida:"
      ]
    },
    {
      "cell_type": "code",
      "metadata": {
        "id": "KLICPMgT4zBP",
        "colab_type": "code",
        "outputId": "f07360af-7c8c-49b2-8531-71d3f42a642e",
        "colab": {
          "base_uri": "https://localhost:8080/",
          "height": 34
        }
      },
      "source": [
        "aList.sort(reverse=True)\n",
        "aList\n"
      ],
      "execution_count": 0,
      "outputs": [
        {
          "output_type": "execute_result",
          "data": {
            "text/plain": [
              "['c', 'b', 'a', 'C', 'B', 'A', '@', '3', '2', '1', '#', '!']"
            ]
          },
          "metadata": {
            "tags": []
          },
          "execution_count": 114
        }
      ]
    },
    {
      "cell_type": "markdown",
      "metadata": {
        "id": "gSY91KRu250m",
        "colab_type": "text"
      },
      "source": [
        "Si por el contrario, queremos ordenar la lista priorizando a las letras en minúscula, hacemos en el argumento `key=str.lower`:"
      ]
    },
    {
      "cell_type": "code",
      "metadata": {
        "id": "eb_80WO63pbL",
        "colab_type": "code",
        "outputId": "34f2bf09-af21-4df1-a326-628b727e0254",
        "colab": {
          "base_uri": "https://localhost:8080/",
          "height": 34
        }
      },
      "source": [
        "aList = ['@','#','!','1','2','3','a','b','c','A','B','C']\n",
        "aList.sort(key=str.lower)\n",
        "aList"
      ],
      "execution_count": 0,
      "outputs": [
        {
          "output_type": "execute_result",
          "data": {
            "text/plain": [
              "['!', '#', '1', '2', '3', '@', 'a', 'A', 'b', 'B', 'c', 'C']"
            ]
          },
          "metadata": {
            "tags": []
          },
          "execution_count": 115
        }
      ]
    },
    {
      "cell_type": "markdown",
      "metadata": {
        "id": "LJlHgZqE5cn8",
        "colab_type": "text"
      },
      "source": [
        "## **Listas y strings:**\n",
        "\n",
        "En la sección anterior se estudió la declaración y manipulación de strings en `python`. Teniendo en cuenta que un `string` es una secuencia de caracteres, podemos convertirlos en una lista de la siguiente manera usando la función de `python` `list()`. \n",
        "\n",
        "Supongamos que declaramos la cadena de caracteres:"
      ]
    },
    {
      "cell_type": "code",
      "metadata": {
        "id": "ZZoQrEwK6GXz",
        "colab_type": "code",
        "outputId": "e43bcb7f-4f9d-444c-f3bc-62c5026e4fe1",
        "colab": {
          "base_uri": "https://localhost:8080/",
          "height": 34
        }
      },
      "source": [
        "s = \"Hola Mundo\"\n",
        "print(\"El tipo de la variable s es: \", type(s))"
      ],
      "execution_count": 0,
      "outputs": [
        {
          "output_type": "stream",
          "text": [
            "El tipo de la variable s es:  <class 'str'>\n"
          ],
          "name": "stdout"
        }
      ]
    },
    {
      "cell_type": "markdown",
      "metadata": {
        "id": "FtEqMRnMLUgo",
        "colab_type": "text"
      },
      "source": [
        "Para convertir este `string` en una lista hacemos:"
      ]
    },
    {
      "cell_type": "code",
      "metadata": {
        "id": "EH2lDSNiMBFM",
        "colab_type": "code",
        "outputId": "6a3a099d-160a-47ac-bafa-60a08500e31e",
        "colab": {
          "base_uri": "https://localhost:8080/",
          "height": 50
        }
      },
      "source": [
        "s = list(s)\n",
        "\n",
        "print(\"Ahora, el tipo de la variable s ha sido convertido a: \", type(s))\n",
        "print(s)"
      ],
      "execution_count": 0,
      "outputs": [
        {
          "output_type": "stream",
          "text": [
            "Ahora, el tipo de la variable s ha sido convertido a:  <class 'list'>\n",
            "['H', 'o', 'l', 'a', ' ', 'M', 'u', 'n', 'd', 'o']\n"
          ],
          "name": "stdout"
        }
      ]
    },
    {
      "cell_type": "markdown",
      "metadata": {
        "id": "EHzW9_NhNHIX",
        "colab_type": "text"
      },
      "source": [
        "Tenga en cuenta que `list()` es una función predefinida en `python`, por lo tanto, debe evitar llamar a una lista con esta palabra.\n",
        "\n",
        "El almacenamiento de strings como listas resulta útil a la hora de hacer divisiones estableciendo un delimintador. Suponga, por ejemplo, que tiene un string que contiene diferentes palabras con espacios entre ellas, y que desea guardar las palabras por separado en una lista. Pordemos usar el método `.split()` de la clase `string` y almacenar el resultado en una variable; dicha variable será un objeto de la clase `list`. "
      ]
    },
    {
      "cell_type": "code",
      "metadata": {
        "id": "psJFC0YuNGaA",
        "colab_type": "code",
        "outputId": "f5507de5-885d-4988-b5dc-d198f8cbd834",
        "colab": {
          "base_uri": "https://localhost:8080/",
          "height": 34
        }
      },
      "source": [
        "s = \"Palabras a separar\"\n",
        "palabras_separadas = s.split()\n",
        "\n",
        "palabras_separadas"
      ],
      "execution_count": 0,
      "outputs": [
        {
          "output_type": "execute_result",
          "data": {
            "text/plain": [
              "['Palabras', 'a', 'separar']"
            ]
          },
          "metadata": {
            "tags": []
          },
          "execution_count": 118
        }
      ]
    },
    {
      "cell_type": "markdown",
      "metadata": {
        "id": "MVD89spQRNnb",
        "colab_type": "text"
      },
      "source": [
        "En este ejemplo, cuando llamamos el método `split` sin argumento, usa como delimitador para separar las palabras el espacio en blanco. Si tenemos un guión para separar las palabras y queremos almacenarlas uno a uno en una lista, debe especificar en el argumento este delimitador:"
      ]
    },
    {
      "cell_type": "code",
      "metadata": {
        "id": "RiHtqF4QR8Bl",
        "colab_type": "code",
        "outputId": "bd2665e9-eb37-4fd2-d298-69bcd98ed6d7",
        "colab": {
          "base_uri": "https://localhost:8080/",
          "height": 34
        }
      },
      "source": [
        "s = \"Palabras-separadas-por-guiones\"\n",
        "\n",
        "palabras_separadas = s.split('-')\n",
        "\n",
        "palabras_separadas"
      ],
      "execution_count": 0,
      "outputs": [
        {
          "output_type": "execute_result",
          "data": {
            "text/plain": [
              "['Palabras', 'separadas', 'por', 'guiones']"
            ]
          },
          "metadata": {
            "tags": []
          },
          "execution_count": 119
        }
      ]
    },
    {
      "cell_type": "markdown",
      "metadata": {
        "id": "peuVmRm2V6jO",
        "colab_type": "text"
      },
      "source": [
        "En general, el argumento del método `split()` acepta cualquier delimitador representado por cualquier caracter. "
      ]
    },
    {
      "cell_type": "markdown",
      "metadata": {
        "id": "_JFJhylsJlRZ",
        "colab_type": "text"
      },
      "source": [
        "## **Concatenación de elementos de una lista con un string.** \n",
        "\n",
        "En algunos casos podria concatenarse los elementos de una lista con un string. Debido a que las listas pueden contener elementos de varios tipos, es mejor realizar un cambio de tipo (o casteo) a un string para evitar errores. Para realizar esta tarea existe la función predefinida en `python` `str()`, la cual podemos emplear de la siguiente forma en una lista de carateres y número `gen_list`:"
      ]
    },
    {
      "cell_type": "code",
      "metadata": {
        "id": "JlmAkX1ZKdov",
        "colab_type": "code",
        "outputId": "7aecc785-a9ff-4fbc-80d3-747a0fc8ea55",
        "colab": {
          "base_uri": "https://localhost:8080/",
          "height": 84
        }
      },
      "source": [
        "gen_list = ['a', 4, 'hola', 10.9]\n",
        "\n",
        "print(\"Primer elemento del gen_List: \"+str(gen_list[0]))\n",
        "print(\"Primer elemento del gen_List: \"+str(gen_list[1]))\n",
        "print(\"Primer elemento del gen_List: \"+str(gen_list[2]))\n",
        "print(\"Primer elemento del gen_List: \"+str(gen_list[3]))"
      ],
      "execution_count": 0,
      "outputs": [
        {
          "output_type": "stream",
          "text": [
            "Primer elemento del gen_List: a\n",
            "Primer elemento del gen_List: 4\n",
            "Primer elemento del gen_List: hola\n",
            "Primer elemento del gen_List: 10.9\n"
          ],
          "name": "stdout"
        }
      ]
    },
    {
      "cell_type": "markdown",
      "metadata": {
        "id": "p0BPDPlxMRAG",
        "colab_type": "text"
      },
      "source": [
        "## **Ejercicios de listas:**"
      ]
    },
    {
      "cell_type": "markdown",
      "metadata": {
        "id": "3wlDohUHNLfF",
        "colab_type": "text"
      },
      "source": [
        "**Ejercicio 1**:\n",
        "\n",
        "En la siguiente celda se crean varias listas con diferentes de diferentes longitudes. Si la lista es de longitud impar, imprima el elemento almacenado en la mitad de la lista, en caso contrario, imprima los dos elementos que se hallan en la mitad."
      ]
    },
    {
      "cell_type": "code",
      "metadata": {
        "id": "xtjaX8KG4X7Z",
        "colab_type": "code",
        "colab": {}
      },
      "source": [
        "lista1 =list('paranguacutirimicuaro') \n",
        "lista2 =list('1234567890')\n",
        "lista3 =list('abcdefghijklmnopqrstvxyz') \n",
        "lista4 =[i for i in range(0,999,2)]"
      ],
      "execution_count": 0,
      "outputs": []
    },
    {
      "cell_type": "markdown",
      "metadata": {
        "id": "TYJ-0Dkx5R1W",
        "colab_type": "text"
      },
      "source": [
        "Para ver la solución al ejercicio haga doble click **aquí**\n",
        "\n",
        "<!----\n",
        "\n",
        "# si se hace len(lista)/2 se puede determinar la mitad de la lista. Si da un número entero, la lista es par y a ese entero se le resta 1 y se le suma 1, y esos dos valores se usan para imprimir los elementos en la mitad; si la división es decimal, se redondea hacia arriba y se imprime el elemento accediendo mediante el valor que se obtenga.\n",
        "----->"
      ]
    },
    {
      "cell_type": "markdown",
      "metadata": {
        "id": "Dd0ZRaJpqQ2R",
        "colab_type": "text"
      },
      "source": [
        "**Ejercicio 2:**\n",
        "\n",
        "En un colegio personalizado del país, se tienen salones constituidos por 5 estudiantes. La lista de estudiantes de uno de ellos es:\n",
        "\n",
        "```\n",
        "kinderA_lista = ['Gómez, Sebastián', 'Arango, Natalia', 'Zambrano, Javier', 'Domingo, Carolina'] \n",
        "````\n",
        "\n",
        "Organice dicha lista en orden alfabético, guardándola en la misma variable e imprímala en pantalla."
      ]
    },
    {
      "cell_type": "markdown",
      "metadata": {
        "id": "5mhF-zLv-Nqj",
        "colab_type": "text"
      },
      "source": [
        "Para ver la solución del problema haga doble click **aquí**.\n",
        "\n",
        "<!----\n",
        "kinderA_lista = ['Gómez, Sebastián', 'Arango, Natalia', 'Zambrano, Javier', 'Domingo, Carolina']\n",
        "\n",
        "kinderA_lista.sort()\n",
        "\n",
        "kinderA_lista\n",
        "---->"
      ]
    },
    {
      "cell_type": "markdown",
      "metadata": {
        "id": "QmL4WrR4iGNk",
        "colab_type": "text"
      },
      "source": [
        "**Ejercicio 3:** La siguiente lista representa una pequeña base de datos constituida por pacientes de una clinica en la ciudad de Medellín. Cada paciente se identifica como:\n",
        "\n",
        "```\n",
        "ID_numero-Medellin\n",
        "```\n",
        "\n",
        "Por motivos de optimización, una programador en `python`requier extraer solamente el número de identificación de cada elemento de la lista. Realice la extracción del número elemento por elemento, de la siguiente lista:\n",
        "\n",
        "\n",
        "```\n",
        "pacientes = [\"ID_0001-Medellin\",\"ID_0002-Medellin\",\"ID_0003-Medellin\",\"ID_0004-Medellin\"]\n",
        "```"
      ]
    },
    {
      "cell_type": "markdown",
      "metadata": {
        "id": "d-CfIB54-u69",
        "colab_type": "text"
      },
      "source": [
        "Para ver la solución del problema haga doble click **aquí**.\n",
        "\n",
        "<!----\n",
        "pacientes = [\"ID_0001-Medellin\",\"ID_0002-Medellin\",\"ID_0003-Medellin\",\"ID_0004-Medellin\"]\n",
        "\n",
        "pacientes[0]=pacientes[0].split('-')[0].split('_')[1]\n",
        "pacientes[1]=pacientes[1].split('-')[0].split('_')[1]  \n",
        "pacientes[2]=pacientes[2].split('-')[0].split('_')[1] \n",
        "pacientes[3]=pacientes[3].split('-')[0].split('_')[1] \n",
        "pacientes\n",
        "---->"
      ]
    },
    {
      "cell_type": "markdown",
      "metadata": {
        "id": "IX1CLHaUcR90",
        "colab_type": "text"
      },
      "source": [
        "#**Diccionarios**"
      ]
    },
    {
      "cell_type": "markdown",
      "metadata": {
        "id": "5VnTnXrfjPBJ",
        "colab_type": "text"
      },
      "source": [
        "\n",
        "\n",
        "Los diccionarios son también parecidos a las listas, excepto que cada elemento es una pareja clave y valor. La sintaxis en los diccionarios es de la forma \n",
        "\n",
        "\n",
        "\n",
        "```\n",
        "mi_diccionario = {clave1 : valor1, clave2 : valor2,...,claveN : valorN}: \n",
        "```\n",
        "\n",
        "Definamos nuestros primer diccionario:\n"
      ]
    },
    {
      "cell_type": "code",
      "metadata": {
        "id": "Rdi35F11idbZ",
        "colab_type": "code",
        "outputId": "76ee7d17-9d16-4155-c638-11b8d4502e4c",
        "colab": {
          "base_uri": "https://localhost:8080/",
          "height": 50
        }
      },
      "source": [
        "params = {\"parameter1\" : 1.0,\n",
        "          \"parameter2\" : 2.0,\n",
        "          \"parameter3\" : 3.0,}\n",
        "\n",
        "print(type(params))\n",
        "print(params)"
      ],
      "execution_count": 0,
      "outputs": [
        {
          "output_type": "stream",
          "text": [
            "<class 'dict'>\n",
            "{'parameter1': 1.0, 'parameter2': 2.0, 'parameter3': 3.0}\n"
          ],
          "name": "stdout"
        }
      ]
    },
    {
      "cell_type": "markdown",
      "metadata": {
        "id": "2PZL5oYdktwF",
        "colab_type": "text"
      },
      "source": [
        "A las entradas de los diccionarios solo puede accerderse mediante el nombre de la clave. \n"
      ]
    },
    {
      "cell_type": "code",
      "metadata": {
        "id": "93n0akRtj8nX",
        "colab_type": "code",
        "outputId": "a0c5c60b-f464-4bbf-d408-c23bfdd34ce6",
        "colab": {
          "base_uri": "https://localhost:8080/",
          "height": 34
        }
      },
      "source": [
        "params[\"parameter2\"]"
      ],
      "execution_count": 0,
      "outputs": [
        {
          "output_type": "execute_result",
          "data": {
            "text/plain": [
              "2.0"
            ]
          },
          "metadata": {
            "tags": []
          },
          "execution_count": 2
        }
      ]
    },
    {
      "cell_type": "markdown",
      "metadata": {
        "id": "Qe6b0_xNsU-m",
        "colab_type": "text"
      },
      "source": [
        "En este sentido, los sentido, los índices de un diccionario pueden casi que de cualquier tipo.\n",
        "\n",
        "A la hora de imprimir los elementos de un diccionario por medio de la concatenación de `strings`, debemos ser precabidos y castear los valors del diccionario mediante la función `str()`:"
      ]
    },
    {
      "cell_type": "code",
      "metadata": {
        "id": "OFMQ9a7SlAMO",
        "colab_type": "code",
        "outputId": "f8b8f2dd-d77c-4003-ad9b-ffd4f360be10",
        "colab": {
          "base_uri": "https://localhost:8080/",
          "height": 67
        }
      },
      "source": [
        "print(\"parameter1 = \" + str(params[\"parameter1\"]))\n",
        "print(\"parameter2 = \" + str(params[\"parameter2\"]))\n",
        "print(\"parameter3 = \" + str(params[\"parameter3\"]))"
      ],
      "execution_count": 0,
      "outputs": [
        {
          "output_type": "stream",
          "text": [
            "parameter1 = 1.0\n",
            "parameter2 = 2.0\n",
            "parameter3 = 3.0\n"
          ],
          "name": "stdout"
        }
      ]
    },
    {
      "cell_type": "markdown",
      "metadata": {
        "id": "yFMpZhRBtBzi",
        "colab_type": "text"
      },
      "source": [
        "Los valores de los diccionarios pueden ser reasignados, accediendo mendiante la palabra clave y usando el operar `=`, de la siguiente forma:"
      ]
    },
    {
      "cell_type": "code",
      "metadata": {
        "id": "VKmRpnJLlKQE",
        "colab_type": "code",
        "outputId": "3608c265-e193-4a9c-cc65-57e4251dcc1f",
        "colab": {
          "base_uri": "https://localhost:8080/",
          "height": 34
        }
      },
      "source": [
        "params[\"parameter1\"] = \"A\"\n",
        "params[\"parameter2\"] = \"B\"\n",
        "\n",
        "params"
      ],
      "execution_count": 0,
      "outputs": [
        {
          "output_type": "execute_result",
          "data": {
            "text/plain": [
              "{'parameter1': 'A', 'parameter2': 'B', 'parameter3': 3.0}"
            ]
          },
          "metadata": {
            "tags": []
          },
          "execution_count": 4
        }
      ]
    },
    {
      "cell_type": "markdown",
      "metadata": {
        "id": "Bub26ZP2tmw_",
        "colab_type": "text"
      },
      "source": [
        "Para adicionar una nueva entrada en el diccionario, lo realizamos de la siguiente forma:\n",
        "\n",
        "\n",
        "\n",
        "```\n",
        "mi_diccionario[clave_nueva] = valor\n",
        "```\n",
        "\n",
        "Agregemos una entrada nueva al diccionario `params`:\n",
        "\n"
      ]
    },
    {
      "cell_type": "code",
      "metadata": {
        "id": "563W64Wztnm7",
        "colab_type": "code",
        "outputId": "a7e4b6af-4cb6-4804-f13a-077e2356a5c4",
        "colab": {
          "base_uri": "https://localhost:8080/",
          "height": 34
        }
      },
      "source": [
        "# Entrada nueva\n",
        "params[\"parameter4\"] = \"D\"\n",
        "params"
      ],
      "execution_count": 0,
      "outputs": [
        {
          "output_type": "execute_result",
          "data": {
            "text/plain": [
              "{'parameter1': 'A', 'parameter2': 'B', 'parameter3': 3.0, 'parameter4': 'D'}"
            ]
          },
          "metadata": {
            "tags": []
          },
          "execution_count": 5
        }
      ]
    },
    {
      "cell_type": "code",
      "metadata": {
        "id": "jeL7iIy_vJdG",
        "colab_type": "code",
        "outputId": "26be9388-49e1-4c22-ec64-28532828730b",
        "colab": {
          "base_uri": "https://localhost:8080/",
          "height": 34
        }
      },
      "source": [
        "params.get('parameter44',1)"
      ],
      "execution_count": 0,
      "outputs": [
        {
          "output_type": "execute_result",
          "data": {
            "text/plain": [
              "1"
            ]
          },
          "metadata": {
            "tags": []
          },
          "execution_count": 6
        }
      ]
    },
    {
      "cell_type": "markdown",
      "metadata": {
        "id": "zZFCzyoTVLrY",
        "colab_type": "text"
      },
      "source": [
        "### **Métodos de la clase diccionario:**\n",
        "\n",
        "Los métodos más naturales que podriamos advertir en un diccionario correspondería dos métodos que impriman las claves y valores de los diccionarios; estos métodos estan constituidos, respectivamente, por `.keys()` y `.values`:"
      ]
    },
    {
      "cell_type": "code",
      "metadata": {
        "id": "UELfjtdEzeEG",
        "colab_type": "code",
        "outputId": "a455db08-02cb-4574-8075-dff4094825dd",
        "colab": {
          "base_uri": "https://localhost:8080/",
          "height": 50
        }
      },
      "source": [
        "print(\"Claves del diccionario params\", params.keys())\n",
        "print(\"Valores del diccionario params\", params.values())"
      ],
      "execution_count": 0,
      "outputs": [
        {
          "output_type": "stream",
          "text": [
            "Claves del diccionario params dict_keys(['parameter1', 'parameter2', 'parameter3', 'parameter4'])\n",
            "Valores del diccionario params dict_values(['A', 'B', 3.0, 'D'])\n"
          ],
          "name": "stdout"
        }
      ]
    },
    {
      "cell_type": "markdown",
      "metadata": {
        "id": "cqx347Tw0Y6q",
        "colab_type": "text"
      },
      "source": [
        "Por otra parte, mediante el método `item()` podemos obtener todas las parejas de clave-valor de un diccionario:"
      ]
    },
    {
      "cell_type": "code",
      "metadata": {
        "id": "-q-W2bCT3VkU",
        "colab_type": "code",
        "outputId": "3d23fe84-c5b5-4e7b-de0b-4109b593720b",
        "colab": {
          "base_uri": "https://localhost:8080/",
          "height": 54
        }
      },
      "source": [
        "params.items()"
      ],
      "execution_count": 0,
      "outputs": [
        {
          "output_type": "execute_result",
          "data": {
            "text/plain": [
              "dict_items([('parameter1', 1.0), ('parameter2', 2.0), ('parameter3', 3.0)])"
            ]
          },
          "metadata": {
            "tags": []
          },
          "execution_count": 22
        }
      ]
    },
    {
      "cell_type": "markdown",
      "metadata": {
        "id": "E1k-k1ttwa3B",
        "colab_type": "text"
      },
      "source": [
        "## **Ejercicios**"
      ]
    },
    {
      "cell_type": "markdown",
      "metadata": {
        "id": "rf_9faQuwi3o",
        "colab_type": "text"
      },
      "source": [
        "###**Ejercicio:**"
      ]
    },
    {
      "cell_type": "markdown",
      "metadata": {
        "id": "ImjKf1DUv-io",
        "colab_type": "text"
      },
      "source": [
        "Las siguientes líneas de código construyen un histograma de una variable `s` a partir de la creacción de un histograma:\n",
        "\n",
        "\n",
        "\n",
        "```\n",
        "def histograma(s):\n",
        "  d = dict()\n",
        "  for c in s:\n",
        "    if c not in d:\n",
        "      d[c] = 1\n",
        "    else:\n",
        "      d[c] += 1\n",
        "  return d\n",
        "```\n",
        "\n",
        "Supongamos que usamos la función anterior para crear un histograma de los caracteres de alguna palabra u oración:\n",
        "\n",
        "\n",
        "```\n",
        "palabra = 'electroencefalografista'\n",
        "h=histograma(palabra)\n",
        "```\n",
        "\n",
        "Por otra parte, el método  `get()` de un diccionario recibe dos argumentos: `clave1` y `valor1`. Si la clave está dentro del diccionario, devuelve el valor asociado a clave dentro del dicciorio, sino, devuelve `valor1`. Use éste método para eliminar el condicional de la función `histograma`.\n",
        "\n",
        "\n"
      ]
    },
    {
      "cell_type": "markdown",
      "metadata": {
        "id": "-1VNlELf3xgN",
        "colab_type": "text"
      },
      "source": [
        "Para ver la solución al ejercicio haga doble click **aquí**\n",
        "\n",
        "<!----\n",
        "def histograma(s):\n",
        "  d = dict()\n",
        "  for c in s:\n",
        "    d[c] = 1+d.get(c,0)\n",
        "  return d\n",
        "\n",
        "palabra = 'electroencefalografista'\n",
        "h = histograma(palabra)\n",
        "h\n",
        "----->"
      ]
    },
    {
      "cell_type": "markdown",
      "metadata": {
        "id": "k3LCIGm2yJ7c",
        "colab_type": "text"
      },
      "source": [
        "### **Ejercicio:** \n",
        "\n",
        "Suponga que tiene los siguients dos diccionarios:\n",
        "\n",
        "\n",
        "\n",
        "```\n",
        "a = {'x' : 1, 'y' : 2, 'z' : 3}\n",
        "b = {'w' : 10, 'x' : 11,'y' : 2}\n",
        "```\n",
        "\n",
        "Encuentre las claves e ítems comunes de ambos diccionarios.\n"
      ]
    },
    {
      "cell_type": "markdown",
      "metadata": {
        "id": "BZ76WLIU3gqM",
        "colab_type": "text"
      },
      "source": [
        "Para ver la solución al ejercicio haga doble click **aquí**\n",
        "<!----\n",
        "a = {'x' : 1, 'y' : 2, 'z' : 3}\n",
        "b = {'w' : 10, 'x' : 11,'y' : 2}\n",
        "print(\"Claves en común\", a.keys()&b.keys())\n",
        "print(\"Claves en común\", a.items()&b.items())\n",
        "---->\n"
      ]
    },
    {
      "cell_type": "markdown",
      "metadata": {
        "colab_type": "text",
        "id": "pqi4Yoe04J66"
      },
      "source": [
        "#**Tuplas**\n",
        "\n",
        "En esta sección estudiantemo un tipo predefinido en `python`conocido como `tuplas`. "
      ]
    },
    {
      "cell_type": "markdown",
      "metadata": {
        "id": "nLpPyNNqs8Jh",
        "colab_type": "text"
      },
      "source": [
        "## **Declaración de una tupla:**\n",
        "\n",
        "Las **tuplas** representa una secuentacia de valores, cuya característica principal es que, una vez definido sus valores, estos **no son reasignables o inmutables**. Al declarar una tupla, cada valor debe ser separado por una coma. Para declarar una tupla, usamos la misma sintaxis que al declarar una lista pero en lugar de usar corchetes `[]`, se hace uso de parentesis `()`:\n",
        "\n",
        "\n"
      ]
    },
    {
      "cell_type": "code",
      "metadata": {
        "id": "CJeioXYJbwvW",
        "colab_type": "code",
        "outputId": "17901465-618b-4c06-8845-cd0e0eb708a6",
        "colab": {
          "base_uri": "https://localhost:8080/",
          "height": 34
        }
      },
      "source": [
        "mi_tupla = ('a',1,'b',2)\n",
        "print(type(mi_tupla))"
      ],
      "execution_count": 0,
      "outputs": [
        {
          "output_type": "stream",
          "text": [
            "<class 'tuple'>\n"
          ],
          "name": "stdout"
        }
      ]
    },
    {
      "cell_type": "markdown",
      "metadata": {
        "id": "aKPUrRjat5OM",
        "colab_type": "text"
      },
      "source": [
        "En el código anterior hemos instanciado un objeto de la clase tupla y lo hemos almacenado en `mi_tupla`. Podemos observar, que al igual que las listas, las tuplas pueden almacenar elementos de diferentes tipos.\n",
        "\n",
        "Para acceder a un elemento de una tupla, usamos indices enteros mediante el operador corchetes:\n"
      ]
    },
    {
      "cell_type": "code",
      "metadata": {
        "id": "_bGa9eU1u86C",
        "colab_type": "code",
        "outputId": "4dc6a926-adfb-40dd-f8dc-e87b4e58e849",
        "colab": {
          "base_uri": "https://localhost:8080/",
          "height": 50
        }
      },
      "source": [
        "print(\"El valor del primer elemento de 'mi_tupla' es '%(n)s' y su clase es %(s)s\" % {'n': mi_tupla[0], 's': type(mi_tupla[0])})\n",
        "print(\"El valor del segundo elemento de 'mi_tupla' es '%(n)s' y su clase es %(s)s\" % {'n': mi_tupla[1], 's': type(mi_tupla[1])})\n"
      ],
      "execution_count": 0,
      "outputs": [
        {
          "output_type": "stream",
          "text": [
            "El valor del primer elemento de 'mi_tupla' es 'a' y su clase es <class 'str'>\n",
            "El valor del segundo elemento de 'mi_tupla' es '1' y su clase es <class 'int'>\n"
          ],
          "name": "stdout"
        }
      ]
    },
    {
      "cell_type": "markdown",
      "metadata": {
        "id": "Ro7yluWg1FKU",
        "colab_type": "text"
      },
      "source": [
        "Si pretendemos reasignar un valor a un elemento de una tupla existente, obtendremos una error \n",
        "\n",
        "```\n",
        "TypeError: 'tuple' object does not support item assignment\n",
        "```\n"
      ]
    },
    {
      "cell_type": "code",
      "metadata": {
        "id": "x-Og_17L1XM4",
        "colab_type": "code",
        "outputId": "e71f24c2-bda3-45b8-a1cb-121df8779fb1",
        "colab": {
          "base_uri": "https://localhost:8080/",
          "height": 34
        }
      },
      "source": [
        "try:\n",
        "  mi_tupla[0]=4 # intentamos reasignar un valor de un elemento de una tupla predefinida. \n",
        "except TypeError as tp:\n",
        "  print(tp)"
      ],
      "execution_count": 0,
      "outputs": [
        {
          "output_type": "stream",
          "text": [
            "'tuple' object does not support item assignment\n"
          ],
          "name": "stdout"
        }
      ]
    },
    {
      "cell_type": "markdown",
      "metadata": {
        "id": "g47Z93XGx6BJ",
        "colab_type": "text"
      },
      "source": [
        "Otra forma para crear un objeto de la clase tupla es mediante la función predefinida en `python` `tuple()`. En el caso en que invoquemos la función  `tuple()` sin argumento, esta creará una tupla vacia:"
      ]
    },
    {
      "cell_type": "code",
      "metadata": {
        "id": "TYWO2f_RvP5p",
        "colab_type": "code",
        "outputId": "2191a9a0-f577-48f4-b6b9-11a63c3712d7",
        "colab": {
          "base_uri": "https://localhost:8080/",
          "height": 34
        }
      },
      "source": [
        "tupla_vacia = tuple()\n",
        "tupla_vacia"
      ],
      "execution_count": 0,
      "outputs": [
        {
          "output_type": "execute_result",
          "data": {
            "text/plain": [
              "()"
            ]
          },
          "metadata": {
            "tags": []
          },
          "execution_count": 19
        }
      ]
    },
    {
      "cell_type": "markdown",
      "metadata": {
        "id": "Ond3gl2nyn33",
        "colab_type": "text"
      },
      "source": [
        "Si introducimos en el argumento de la función `tuple()` un string, obtendremos una tupla, donde cada elemento almacena un caracter de la cadena:"
      ]
    },
    {
      "cell_type": "code",
      "metadata": {
        "id": "g0tHfSllx3on",
        "colab_type": "code",
        "outputId": "1c5e80a9-1dee-4ba1-e9bc-bec19195384e",
        "colab": {
          "base_uri": "https://localhost:8080/",
          "height": 34
        }
      },
      "source": [
        "cadena_tupla = tuple('tupla cadena')\n",
        "cadena_tupla"
      ],
      "execution_count": 0,
      "outputs": [
        {
          "output_type": "execute_result",
          "data": {
            "text/plain": [
              "('t', 'u', 'p', 'l', 'a', ' ', 'c', 'a', 'd', 'e', 'n', 'a')"
            ]
          },
          "metadata": {
            "tags": []
          },
          "execution_count": 20
        }
      ]
    },
    {
      "cell_type": "markdown",
      "metadata": {
        "id": "I-_huGYMzW20",
        "colab_type": "text"
      },
      "source": [
        "Si en lugar de un `string`, le pasamos una lista como argumento a la función `tuple()`, separando cada elemento de la lista por una coma, la función retornará una tupla cuyos elementos son los elementos de la lista:"
      ]
    },
    {
      "cell_type": "code",
      "metadata": {
        "id": "PxKMBzVCzAUQ",
        "colab_type": "code",
        "outputId": "6b942be5-cd43-4a4d-f4b5-6ecfba008155",
        "colab": {
          "base_uri": "https://localhost:8080/",
          "height": 34
        }
      },
      "source": [
        "tupla2 = tuple(['a',1,2,'aeiou'])\n",
        "tupla2"
      ],
      "execution_count": 0,
      "outputs": [
        {
          "output_type": "execute_result",
          "data": {
            "text/plain": [
              "('a', 1, 2, 'aeiou')"
            ]
          },
          "metadata": {
            "tags": []
          },
          "execution_count": 21
        }
      ]
    },
    {
      "cell_type": "markdown",
      "metadata": {
        "id": "rbRdeUhu0DvM",
        "colab_type": "text"
      },
      "source": [
        "## **Seccionado de tuplas en python:**\n",
        "\n",
        "El seccionado o *slicing* de tuplas en `python`, se realiza de forma análoga al seccionado llevado a cabo en las listas. Por lo tanto, las mismas reglas de *slicing* explicadas en las listas se cumple en las tuplas:"
      ]
    },
    {
      "cell_type": "code",
      "metadata": {
        "id": "Ubd3hCDbzR9z",
        "colab_type": "code",
        "outputId": "840d4850-0644-43ec-ca81-7d57fe83db43",
        "colab": {
          "base_uri": "https://localhost:8080/",
          "height": 84
        }
      },
      "source": [
        "print(\"Selección de todos los elementos:\", cadena_tupla[:])\n",
        "print(\"Selección de los primeros cuatro elementos: \", cadena_tupla[:4])\n",
        "print(\"Selección de los elementos entre los índices 3 y 5: \", cadena_tupla[3:5])\n",
        "print(\"Selección de los últimos 3 elementos de la tupla:\", cadena_tupla[-3:])"
      ],
      "execution_count": 0,
      "outputs": [
        {
          "output_type": "stream",
          "text": [
            "Selección de todos los elementos: ('t', 'u', 'p', 'l', 'a', ' ', 'c', 'a', 'd', 'e', 'n', 'a')\n",
            "Selección de los primeros cuatro elementos:  ('t', 'u', 'p', 'l')\n",
            "Selección de los elementos entre los índices 3 y 5:  ('l', 'a')\n",
            "Selección de los últimos 3 elementos de la tupla: ('e', 'n', 'a')\n"
          ],
          "name": "stdout"
        }
      ]
    },
    {
      "cell_type": "markdown",
      "metadata": {
        "id": "1NrUn1IM4gCG",
        "colab_type": "text"
      },
      "source": [
        "##  **Asignación mediante tuplas**:\n",
        "\n",
        "El uso de tuplas en python para asignar/reasignar valores en `python`, permite la simplificación del código en programación.\n",
        "\n",
        "Imaginemos que quereremos intercambiar los valores almacenados en dos variables. Sea `v1` y `v2` dos variables predefinidas en nuestras líneas de código. Podemos definir una variable temporal `tmp` que almacene el valor de una de las variables, por ejemplo `v1`, hacer `v1=v2` y `v2=tmp`: "
      ]
    },
    {
      "cell_type": "code",
      "metadata": {
        "id": "VfB0GKJA1nzN",
        "colab_type": "code",
        "outputId": "ac34eb04-b2d0-4585-d048-ce59331a71c9",
        "colab": {
          "base_uri": "https://localhost:8080/",
          "height": 84
        }
      },
      "source": [
        "v1 = 1\n",
        "v2 = 2\n",
        "\n",
        "print(\"La variable v1 inicial es: \", v1)\n",
        "print(\"La variable v2 inicial es: \", v2)\n",
        "\n",
        "tmp = v1\n",
        "v1 = v2\n",
        "v2 = tmp\n",
        "\n",
        "print(\"La variable v1 final es: \", v1)\n",
        "print(\"La variable v2 final es: \", v2)"
      ],
      "execution_count": 0,
      "outputs": [
        {
          "output_type": "stream",
          "text": [
            "La variable v1 inicial es:  1\n",
            "La variable v2 inicial es:  2\n",
            "La variable v1 final es:  2\n",
            "La variable v2 final es:  1\n"
          ],
          "name": "stdout"
        }
      ]
    },
    {
      "cell_type": "markdown",
      "metadata": {
        "id": "7vEsWgfL6GaN",
        "colab_type": "text"
      },
      "source": [
        "Este procedimiento lo podemos reducir, y presentarlo de forma más elegante mediante el uso de tuplas:"
      ]
    },
    {
      "cell_type": "code",
      "metadata": {
        "id": "8BP3L_x96DAA",
        "colab_type": "code",
        "outputId": "c72c5e4e-240e-4e47-83dc-b2728e4194c2",
        "colab": {
          "base_uri": "https://localhost:8080/",
          "height": 84
        }
      },
      "source": [
        "v1 = 1\n",
        "v2 = 2\n",
        "\n",
        "print(\"La variable v1 inicial es: \", v1)\n",
        "print(\"La variable v2 inicial es: \", v2)\n",
        "\n",
        "v1, v2 = v2, v1\n",
        "\n",
        "print(\"La variable v1 final es: \", v1)\n",
        "print(\"La variable v2 final es: \", v2)"
      ],
      "execution_count": 0,
      "outputs": [
        {
          "output_type": "stream",
          "text": [
            "La variable v1 inicial es:  1\n",
            "La variable v2 inicial es:  2\n",
            "La variable v1 final es:  2\n",
            "La variable v2 final es:  1\n"
          ],
          "name": "stdout"
        }
      ]
    },
    {
      "cell_type": "markdown",
      "metadata": {
        "id": "whwo9JoC6c43",
        "colab_type": "text"
      },
      "source": [
        "Podemos observar que, hemos utilizado la sintaxis mediante tuplas para reasignar valores a las variables `v1` y `v2`; en ningún momento estas variables representan tuplas ya que, como mencionamos anteriormente, **las tuplas son inmutables**.\n",
        "\n",
        "Por otra parte, el número de variables al lado derecho de la asignación debe ser igual al número de variables al lado derecho de la asignación, en caso contrario, obtendremos una error de tipo `ValueError`:"
      ]
    },
    {
      "cell_type": "code",
      "metadata": {
        "id": "4YMCUqYZ6bn5",
        "colab_type": "code",
        "colab": {}
      },
      "source": [
        "try:\n",
        "  v1,v2 = 1,3,4\n",
        "except ValueError as ve:\n",
        "  print(ve)"
      ],
      "execution_count": 0,
      "outputs": []
    },
    {
      "cell_type": "markdown",
      "metadata": {
        "id": "NeZv0Q6m8Go0",
        "colab_type": "text"
      },
      "source": [
        "**Ejemplo:** \n",
        "\n",
        "Almacene en dos variables el usuario y dominio del correo electronico `andresCastro19@udea.edu.co`:"
      ]
    },
    {
      "cell_type": "code",
      "metadata": {
        "id": "a9fEqIKF74Sx",
        "colab_type": "code",
        "outputId": "49632e17-598a-4bed-ff18-ea874783efc9",
        "colab": {
          "base_uri": "https://localhost:8080/",
          "height": 34
        }
      },
      "source": [
        "email = 'andresCastro19@udea.edu.co'\n",
        "\n",
        "usuario,dominio = email.split('@')\n",
        "\n",
        "print(\"En el e-mail, dominio es %s y el usuario %s\"%(usuario,dominio))"
      ],
      "execution_count": 0,
      "outputs": [
        {
          "output_type": "stream",
          "text": [
            "En el e-mail, dominio es andresCastro19 y el usuario udea.edu.co\n"
          ],
          "name": "stdout"
        }
      ]
    },
    {
      "cell_type": "markdown",
      "metadata": {
        "id": "arIAylbU-tMT",
        "colab_type": "text"
      },
      "source": [
        "## **Tuplas y valores retornado**\n",
        "\n",
        "En `python`, podemos obtener de funciones predefinidas o programadas, devoluciones en forma de tupla. Por ejemplo, la función predefinida en `python` `divmod` toma dos argumentos numéricos y devuelve el cociente y residuo entre ellos. Estos valores pueden ser almacenados en una variable que se convertirá en una tupla, o en dos variables independientes que constituirán números. Veamos esto:"
      ]
    },
    {
      "cell_type": "code",
      "metadata": {
        "id": "qJHQgQ1U9d6M",
        "colab_type": "code",
        "outputId": "85aca05d-41f3-481c-95ee-1556bb740c10",
        "colab": {
          "base_uri": "https://localhost:8080/",
          "height": 50
        }
      },
      "source": [
        "# Cociente y residuo almacenados como una tupla\n",
        "cos_res = divmod(13,6)\n",
        "print(\"La tupla cociente/residuo de dividir 13 entre 6 es: \", cos_res)\n",
        "\n",
        "# Cociente y residuo almacenados en variables independientes:\n",
        "cos,res = divmod(13,6)\n",
        "print(\"El cociente y residuo de dividir 13 entre 6 son: \", cos, \"y\",res)"
      ],
      "execution_count": 0,
      "outputs": [
        {
          "output_type": "stream",
          "text": [
            "La tupla cociente/residuo de dividir 13 entre 6 es:  (2, 1)\n",
            "El cociente y residuo de dividir 13 entre 6 son:  2 y 1\n"
          ],
          "name": "stdout"
        }
      ]
    },
    {
      "cell_type": "markdown",
      "metadata": {
        "id": "qtGCM3EjDeFy",
        "colab_type": "text"
      },
      "source": [
        "## **Argumentos de longitud variables como tuplas**\n",
        "\n",
        "Las funciones en `python` pueden tomar un número variable de argumentos. Por ejemplo, si se tiene un parametro que empieza por `*`, este juntará todos los argumentos. Definamos una función que inplima todos los argumentos que se pasen dentro de `()`:"
      ]
    },
    {
      "cell_type": "code",
      "metadata": {
        "id": "8O9DrJZTChMP",
        "colab_type": "code",
        "outputId": "287a8d2a-0579-4519-c740-81b5a3efcf9a",
        "colab": {
          "base_uri": "https://localhost:8080/",
          "height": 34
        }
      },
      "source": [
        "def print_arguments(*args):\n",
        "  print(args)\n",
        "\n",
        "print_arguments(1,2,3,'a','b')"
      ],
      "execution_count": 0,
      "outputs": [
        {
          "output_type": "stream",
          "text": [
            "(1, 2, 3, 'a', 'b')\n"
          ],
          "name": "stdout"
        }
      ]
    },
    {
      "cell_type": "markdown",
      "metadata": {
        "id": "8m2JBCAzXHcD",
        "colab_type": "text"
      },
      "source": [
        "Por el contario, si se tiene una tupla que define varios parámetros, una función de python que reciba exactamente dos argumentos no podrá recibir dicha tupla, sino sus elementos por separado. Vemos esto con la función `divmod()`"
      ]
    },
    {
      "cell_type": "markdown",
      "metadata": {
        "id": "oDRqEzlaXVII",
        "colab_type": "text"
      },
      "source": [
        ""
      ]
    },
    {
      "cell_type": "code",
      "metadata": {
        "id": "Gr0a3vU5XG1N",
        "colab_type": "code",
        "outputId": "4a114bec-be9c-48ea-b89a-1725fbbf0bbe",
        "colab": {
          "base_uri": "https://localhost:8080/",
          "height": 34
        }
      },
      "source": [
        "numbers = (7,3)\n",
        "\n",
        "try:\n",
        "  divmod(numbers)\n",
        "except TypeError as TE:\n",
        "  print(TE)"
      ],
      "execution_count": 0,
      "outputs": [
        {
          "output_type": "stream",
          "text": [
            "divmod expected 2 arguments, got 1\n"
          ],
          "name": "stdout"
        }
      ]
    },
    {
      "cell_type": "markdown",
      "metadata": {
        "id": "TyUnMg8YZVz9",
        "colab_type": "text"
      },
      "source": [
        "Para solucionar este problema, podemos usar el operador `*` aplicado en la tupla para **separ** sus elementos:"
      ]
    },
    {
      "cell_type": "code",
      "metadata": {
        "id": "stzBi_3PD7u9",
        "colab_type": "code",
        "outputId": "5109b8b7-b40a-43e2-e28b-018080bf505f",
        "colab": {
          "base_uri": "https://localhost:8080/",
          "height": 34
        }
      },
      "source": [
        "divmod(*numbers)"
      ],
      "execution_count": 0,
      "outputs": [
        {
          "output_type": "execute_result",
          "data": {
            "text/plain": [
              "(2, 1)"
            ]
          },
          "metadata": {
            "tags": []
          },
          "execution_count": 29
        }
      ]
    },
    {
      "cell_type": "markdown",
      "metadata": {
        "id": "Q2JUtm8SZ6WZ",
        "colab_type": "text"
      },
      "source": [
        "No obstante, existen funciones predefinidas en `python` que si aceptan un número variable de argumentos. Por ejemplo, las funciones `min` y `max` determinan los números máximos y mínimos entre un número variable de arguméntos. En este caso, dichas podemos usar tuplas como argumento de las funciones:"
      ]
    },
    {
      "cell_type": "code",
      "metadata": {
        "id": "z8aVW7oRZvAw",
        "colab_type": "code",
        "outputId": "d08493c2-05de-4695-ae22-392c994ec0e0",
        "colab": {
          "base_uri": "https://localhost:8080/",
          "height": 50
        }
      },
      "source": [
        "numbers = (92,24,2,333,1)\n",
        "\n",
        "print(\"El valor máximo de la tupla numbers es:\",max(numbers))\n",
        "print(\"El valor mínimo de la tupla numbers es:\",min(numbers))"
      ],
      "execution_count": 0,
      "outputs": [
        {
          "output_type": "stream",
          "text": [
            "El valor máximo de la tupla numbers es: 333\n",
            "El valor mínimo de la tupla numbers es: 1\n"
          ],
          "name": "stdout"
        }
      ]
    },
    {
      "cell_type": "markdown",
      "metadata": {
        "id": "z7fhy2jvdCRj",
        "colab_type": "text"
      },
      "source": [
        "## **Iteradores como listas y tuplas:**\n",
        "\n",
        "Existe una función predefinida en `python`, conocida como `zip`, la cual recibe como argumento dos conjuntos de secuencias y las intercala, formando una especie de \"cierre\".\n",
        "\n",
        "\n",
        "A efectos prácticos, imaginemos por ejemplo que tenemos dos tuplas; la primera de ellas contiene una lista de nombres `a=('Juan','Pedro','Maria')`; la segunda de ellas sus edades `b=(6,10,2)`. La función `zip(a,b)` intercala los elementos como se muestra en la siguiente gráfica.\n",
        "\n",
        "\n",
        "<center><p class=\"aligncenter\">\n",
        "    <img src=\"https://github.com/diplomado-bigdata-machinelearning-udea/curso0/blob/master/s03/img/zip_1.png?raw=true\" />\n",
        "</p></center>\n",
        "\n",
        "En forma de código, lo anterior podemos escribirlo como:\n"
      ]
    },
    {
      "cell_type": "code",
      "metadata": {
        "id": "6yAKd84AkzYC",
        "colab_type": "code",
        "colab": {}
      },
      "source": [
        "nombres = ('Juan','Pedro','Maria')\n",
        "edades = (6,10,12)\n",
        "\n",
        "list(zip(nombres,edades))"
      ],
      "execution_count": 0,
      "outputs": []
    },
    {
      "cell_type": "markdown",
      "metadata": {
        "id": "fLwixKVvlOPu",
        "colab_type": "text"
      },
      "source": [
        "La función `zip()`, resulta sumamente útil a la hora de realizar clicos `for`, donde mezclemos gráficos y títulos, o datos y etiquétas almacenadas en diferentes variables. "
      ]
    },
    {
      "cell_type": "markdown",
      "metadata": {
        "id": "nL1kug2rau_5",
        "colab_type": "text"
      },
      "source": [
        "## **Ejercicios:**"
      ]
    },
    {
      "cell_type": "markdown",
      "metadata": {
        "id": "jH8OieKfa3tE",
        "colab_type": "text"
      },
      "source": [
        "###**Ejercicio:**\n",
        "\n",
        "Determine si la función predefinida en python `sum()` puede ser llamada de la forma\n",
        "\n",
        "```\n",
        "sum(23,14,55,2)\n",
        "```\n",
        "\n",
        "En caso de no ser posible, consulte la ayuda de la función y plantee una forma de resolver el problema.\n",
        "\n"
      ]
    },
    {
      "cell_type": "markdown",
      "metadata": {
        "id": "S5az8-fVcWq2",
        "colab_type": "text"
      },
      "source": [
        "Para ver la solución al ejercicio haga doble click **aquí**\n",
        "\n",
        "<!----\n",
        "\n",
        "# Celda 1\n",
        "sum(23,14,55,2)\n",
        "\n",
        "# Celda 2\n",
        "# Luego de consultar la ayuda de la función sum(), vemos que el argumento que recibe debe ser un iterable: una tupla lo es!\n",
        "\n",
        "numbers = (23,14,55,2)\n",
        "sum(numbers)\n",
        "\n",
        "----->"
      ]
    },
    {
      "cell_type": "markdown",
      "metadata": {
        "id": "f9zK68bLnKAu",
        "colab_type": "text"
      },
      "source": [
        "###**Ejercicio:**\n",
        "\n",
        "Imagine que tiene dos barajas separadas de cartas idénticas e incompletas definidas por el siguiente conjunto de cartas, organizadas una tras otra:\n",
        "\n",
        "'A picas', '2 picas', '3 picas', '4 picas', '5 picas', '6 picas', '7 picas', '8 picas', '9 picas'.\n",
        "\n",
        "Si se quiere barajar dichas cartas, de tal forma que queden por ordenadas por parejas las cartas iguales ¿cómo podria realizaarlo en `python`?"
      ]
    },
    {
      "cell_type": "markdown",
      "metadata": {
        "id": "D-lSndUJp7BD",
        "colab_type": "text"
      },
      "source": [
        "Para ver la solución al ejercicio haga doble click **aquí**\n",
        "\n",
        "<!----\n",
        "\n",
        "baraja = ['A picas', '2 picas', '3 picas', '4 picas', '5 picas', '6 picas', '7 picas', '8 picas', '9 picas']\n",
        "list(zip(baraja,baraja))\n",
        "\n",
        "----->"
      ]
    },
    {
      "cell_type": "code",
      "metadata": {
        "id": "wL2F1N5b5PU0",
        "colab_type": "code",
        "colab": {}
      },
      "source": [
        ""
      ],
      "execution_count": 0,
      "outputs": []
    }
  ]
}